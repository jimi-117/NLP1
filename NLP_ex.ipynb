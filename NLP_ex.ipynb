{
 "cells": [
  {
   "cell_type": "code",
   "execution_count": 1,
   "metadata": {
    "tags": []
   },
   "outputs": [],
   "source": [
    "%load_ext Cython"
   ]
  },
  {
   "cell_type": "markdown",
   "metadata": {},
   "source": [
    "# Feature Engineering for NLP in Python"
   ]
  },
  {
   "cell_type": "code",
   "execution_count": 3,
   "metadata": {
    "tags": []
   },
   "outputs": [],
   "source": [
    "import matplotlib.pyplot as plt \n",
    "import pandas as pd\n",
    "import numpy as np\n",
    "import cython"
   ]
  },
  {
   "cell_type": "markdown",
   "metadata": {},
   "source": [
    "# Ce notebook s'appuit sur un cours en Anglais de Datacamp . Vous pouvez utiliser un traducteur.\n",
    "Voici le lien pour accéder aux vidéos et aux slides :\n",
    "https://www.dropbox.com/sh/jinhd7xyjq8gmxi/AAAXcjnfKGIB5gRBE3iI_3JPa?dl=0"
   ]
  },
  {
   "cell_type": "markdown",
   "metadata": {},
   "source": [
    "Programme\n",
    "\n",
    "Chapitre 1 - Basic features and readability scores\n",
    "\n",
    "    Learn to compute basic features such as number of words, number of characters, average word length and number of special characters\n",
    "    (such as Twitter hashtags and mentions). \n",
    "    You will also learn to compute readability scores and determine the amount of education required to comprehend a piece of text.\n",
    "\n",
    "\n",
    "Chapitre 2 - Text preprocessing, POS tagging and NER\n",
    "   \n",
    "    In this chapter, you will learn about tokenization and lemmatization. You will then learn how to perform text cleaning, part-of-speech tagging, and named entity recognition using the spaCy library. Upon mastering these concepts,\n",
    "    you will proceed to make the Gettysburg address machine-friendly, analyze noun usage in fake news, and identify people mentioned in a TechCrunch article.\n",
    "\n",
    "\n",
    "Chapitre 3 - N-Gram models\n",
    "\n",
    "    Learn about n-gram modeling and use it to perform sentiment analysis on movie reviews.\n",
    "\n",
    "\n",
    "Chapitre 4 -TF-IDF and similarity scores\n",
    "\n",
    "    Learn how to compute tf-idf weights and the cosine similarity score between two vectors. You will use these concepts to build a movie and a TED Talk recommender. Finally, you will also learn about word embeddings and using word vector representations, you will compute similarities between various Pink Floyd songs.\n"
   ]
  },
  {
   "cell_type": "markdown",
   "metadata": {},
   "source": [
    "# Chapitre 1 - Basic features and readability scores"
   ]
  },
  {
   "cell_type": "markdown",
   "metadata": {},
   "source": [
    "Voir la première vidéo du chapitre 1"
   ]
  },
  {
   "cell_type": "code",
   "execution_count": 4,
   "metadata": {
    "tags": []
   },
   "outputs": [],
   "source": [
    "import pandas as pd\n",
    "\n",
    "df1 = pd.read_csv( \"df1.csv\", sep =';').dropna(axis=1)\n"
   ]
  },
  {
   "cell_type": "code",
   "execution_count": 5,
   "metadata": {
    "tags": []
   },
   "outputs": [
    {
     "data": {
      "text/html": [
       "<div>\n",
       "<style scoped>\n",
       "    .dataframe tbody tr th:only-of-type {\n",
       "        vertical-align: middle;\n",
       "    }\n",
       "\n",
       "    .dataframe tbody tr th {\n",
       "        vertical-align: top;\n",
       "    }\n",
       "\n",
       "    .dataframe thead th {\n",
       "        text-align: right;\n",
       "    }\n",
       "</style>\n",
       "<table border=\"1\" class=\"dataframe\">\n",
       "  <thead>\n",
       "    <tr style=\"text-align: right;\">\n",
       "      <th></th>\n",
       "      <th>feature 1</th>\n",
       "      <th>feature 2</th>\n",
       "      <th>feature 3</th>\n",
       "      <th>feature 4 feature 5</th>\n",
       "      <th>label</th>\n",
       "    </tr>\n",
       "  </thead>\n",
       "  <tbody>\n",
       "    <tr>\n",
       "      <th>0</th>\n",
       "      <td>29.0000</td>\n",
       "      <td>0</td>\n",
       "      <td>0</td>\n",
       "      <td>211.3375</td>\n",
       "      <td>female</td>\n",
       "    </tr>\n",
       "    <tr>\n",
       "      <th>1</th>\n",
       "      <td>0.9167</td>\n",
       "      <td>1</td>\n",
       "      <td>2</td>\n",
       "      <td>151.5500</td>\n",
       "      <td>male</td>\n",
       "    </tr>\n",
       "    <tr>\n",
       "      <th>2</th>\n",
       "      <td>2.0000</td>\n",
       "      <td>1</td>\n",
       "      <td>2</td>\n",
       "      <td>151.5500</td>\n",
       "      <td>female</td>\n",
       "    </tr>\n",
       "    <tr>\n",
       "      <th>3</th>\n",
       "      <td>30.0000</td>\n",
       "      <td>1</td>\n",
       "      <td>2</td>\n",
       "      <td>151.5500</td>\n",
       "      <td>male</td>\n",
       "    </tr>\n",
       "    <tr>\n",
       "      <th>4</th>\n",
       "      <td>25.0000</td>\n",
       "      <td>1</td>\n",
       "      <td>2</td>\n",
       "      <td>151.5500</td>\n",
       "      <td>female</td>\n",
       "    </tr>\n",
       "    <tr>\n",
       "      <th>5</th>\n",
       "      <td>48.0000</td>\n",
       "      <td>0</td>\n",
       "      <td>0</td>\n",
       "      <td>26.5500</td>\n",
       "      <td>male</td>\n",
       "    </tr>\n",
       "    <tr>\n",
       "      <th>6</th>\n",
       "      <td>63.0000</td>\n",
       "      <td>1</td>\n",
       "      <td>0</td>\n",
       "      <td>77.9583</td>\n",
       "      <td>female</td>\n",
       "    </tr>\n",
       "    <tr>\n",
       "      <th>7</th>\n",
       "      <td>39.0000</td>\n",
       "      <td>0</td>\n",
       "      <td>0</td>\n",
       "      <td>0.0000</td>\n",
       "      <td>male</td>\n",
       "    </tr>\n",
       "    <tr>\n",
       "      <th>8</th>\n",
       "      <td>53.0000</td>\n",
       "      <td>2</td>\n",
       "      <td>0</td>\n",
       "      <td>51.4792</td>\n",
       "      <td>female</td>\n",
       "    </tr>\n",
       "    <tr>\n",
       "      <th>9</th>\n",
       "      <td>71.0000</td>\n",
       "      <td>0</td>\n",
       "      <td>0</td>\n",
       "      <td>49.5042</td>\n",
       "      <td>male</td>\n",
       "    </tr>\n",
       "    <tr>\n",
       "      <th>10</th>\n",
       "      <td>47.0000</td>\n",
       "      <td>1</td>\n",
       "      <td>0</td>\n",
       "      <td>227.5250</td>\n",
       "      <td>male</td>\n",
       "    </tr>\n",
       "    <tr>\n",
       "      <th>11</th>\n",
       "      <td>18.0000</td>\n",
       "      <td>1</td>\n",
       "      <td>0</td>\n",
       "      <td>227.5250</td>\n",
       "      <td>female</td>\n",
       "    </tr>\n",
       "    <tr>\n",
       "      <th>12</th>\n",
       "      <td>24.0000</td>\n",
       "      <td>0</td>\n",
       "      <td>0</td>\n",
       "      <td>69.3000</td>\n",
       "      <td>female</td>\n",
       "    </tr>\n",
       "    <tr>\n",
       "      <th>13</th>\n",
       "      <td>26.0000</td>\n",
       "      <td>0</td>\n",
       "      <td>0</td>\n",
       "      <td>78.8500</td>\n",
       "      <td>female</td>\n",
       "    </tr>\n",
       "    <tr>\n",
       "      <th>14</th>\n",
       "      <td>80.0000</td>\n",
       "      <td>0</td>\n",
       "      <td>0</td>\n",
       "      <td>30.0000</td>\n",
       "      <td>male</td>\n",
       "    </tr>\n",
       "  </tbody>\n",
       "</table>\n",
       "</div>"
      ],
      "text/plain": [
       "    feature 1  feature 2  feature 3  feature 4 feature 5   label\n",
       "0     29.0000          0          0             211.3375  female\n",
       "1      0.9167          1          2             151.5500    male\n",
       "2      2.0000          1          2             151.5500  female\n",
       "3     30.0000          1          2             151.5500    male\n",
       "4     25.0000          1          2             151.5500  female\n",
       "5     48.0000          0          0              26.5500    male\n",
       "6     63.0000          1          0              77.9583  female\n",
       "7     39.0000          0          0               0.0000    male\n",
       "8     53.0000          2          0              51.4792  female\n",
       "9     71.0000          0          0              49.5042    male\n",
       "10    47.0000          1          0             227.5250    male\n",
       "11    18.0000          1          0             227.5250  female\n",
       "12    24.0000          0          0              69.3000  female\n",
       "13    26.0000          0          0              78.8500  female\n",
       "14    80.0000          0          0              30.0000    male"
      ]
     },
     "execution_count": 5,
     "metadata": {},
     "output_type": "execute_result"
    }
   ],
   "source": [
    "df1"
   ]
  },
  {
   "cell_type": "code",
   "execution_count": 6,
   "metadata": {
    "tags": []
   },
   "outputs": [
    {
     "data": {
      "text/plain": [
       "Index(['feature 1', 'feature 2', 'feature 3', 'feature 4 feature 5', 'label'], dtype='object')"
      ]
     },
     "execution_count": 6,
     "metadata": {},
     "output_type": "execute_result"
    }
   ],
   "source": [
    "#afficher les caractéristique de df1 (ie les colonnes)\n",
    "\n",
    "df1.columns"
   ]
  },
  {
   "cell_type": "code",
   "execution_count": 7,
   "metadata": {
    "tags": []
   },
   "outputs": [
    {
     "name": "stdout",
     "output_type": "stream",
     "text": [
      "<class 'pandas.core.frame.DataFrame'>\n",
      "RangeIndex: 15 entries, 0 to 14\n",
      "Data columns (total 5 columns):\n",
      " #   Column               Non-Null Count  Dtype  \n",
      "---  ------               --------------  -----  \n",
      " 0   feature 1            15 non-null     float64\n",
      " 1   feature 2            15 non-null     int64  \n",
      " 2   feature 3            15 non-null     int64  \n",
      " 3   feature 4 feature 5  15 non-null     float64\n",
      " 4   label                15 non-null     object \n",
      "dtypes: float64(2), int64(2), object(1)\n",
      "memory usage: 728.0+ bytes\n"
     ]
    }
   ],
   "source": [
    "df1.info()"
   ]
  },
  {
   "cell_type": "markdown",
   "metadata": {},
   "source": [
    "df1 contient des caractéristiques catégorielles et n'est donc pas adapté à l'application d'algorithmes de ML.\n",
    "\n",
    "Dans cet exercice, votre tâche consiste à convertir df1 dans un format adapté."
   ]
  },
  {
   "cell_type": "code",
   "execution_count": 8,
   "metadata": {
    "tags": []
   },
   "outputs": [],
   "source": [
    "#utiliser pd.get_dummies() pour modifier les caractéristiques catégorielles\n",
    "\n",
    "df1 = pd.get_dummies(df1, dtype=int, drop_first=True)\n",
    "\n",
    "#afficher le nouveau dataframe"
   ]
  },
  {
   "cell_type": "code",
   "execution_count": 9,
   "metadata": {
    "tags": []
   },
   "outputs": [
    {
     "data": {
      "text/html": [
       "<div>\n",
       "<style scoped>\n",
       "    .dataframe tbody tr th:only-of-type {\n",
       "        vertical-align: middle;\n",
       "    }\n",
       "\n",
       "    .dataframe tbody tr th {\n",
       "        vertical-align: top;\n",
       "    }\n",
       "\n",
       "    .dataframe thead th {\n",
       "        text-align: right;\n",
       "    }\n",
       "</style>\n",
       "<table border=\"1\" class=\"dataframe\">\n",
       "  <thead>\n",
       "    <tr style=\"text-align: right;\">\n",
       "      <th></th>\n",
       "      <th>feature 1</th>\n",
       "      <th>feature 2</th>\n",
       "      <th>feature 3</th>\n",
       "      <th>feature 4 feature 5</th>\n",
       "      <th>label_male</th>\n",
       "    </tr>\n",
       "  </thead>\n",
       "  <tbody>\n",
       "    <tr>\n",
       "      <th>0</th>\n",
       "      <td>29.0000</td>\n",
       "      <td>0</td>\n",
       "      <td>0</td>\n",
       "      <td>211.3375</td>\n",
       "      <td>0</td>\n",
       "    </tr>\n",
       "    <tr>\n",
       "      <th>1</th>\n",
       "      <td>0.9167</td>\n",
       "      <td>1</td>\n",
       "      <td>2</td>\n",
       "      <td>151.5500</td>\n",
       "      <td>1</td>\n",
       "    </tr>\n",
       "    <tr>\n",
       "      <th>2</th>\n",
       "      <td>2.0000</td>\n",
       "      <td>1</td>\n",
       "      <td>2</td>\n",
       "      <td>151.5500</td>\n",
       "      <td>0</td>\n",
       "    </tr>\n",
       "    <tr>\n",
       "      <th>3</th>\n",
       "      <td>30.0000</td>\n",
       "      <td>1</td>\n",
       "      <td>2</td>\n",
       "      <td>151.5500</td>\n",
       "      <td>1</td>\n",
       "    </tr>\n",
       "    <tr>\n",
       "      <th>4</th>\n",
       "      <td>25.0000</td>\n",
       "      <td>1</td>\n",
       "      <td>2</td>\n",
       "      <td>151.5500</td>\n",
       "      <td>0</td>\n",
       "    </tr>\n",
       "  </tbody>\n",
       "</table>\n",
       "</div>"
      ],
      "text/plain": [
       "   feature 1  feature 2  feature 3  feature 4 feature 5  label_male\n",
       "0    29.0000          0          0             211.3375           0\n",
       "1     0.9167          1          2             151.5500           1\n",
       "2     2.0000          1          2             151.5500           0\n",
       "3    30.0000          1          2             151.5500           1\n",
       "4    25.0000          1          2             151.5500           0"
      ]
     },
     "execution_count": 9,
     "metadata": {},
     "output_type": "execute_result"
    }
   ],
   "source": [
    "df1.head()"
   ]
  },
  {
   "cell_type": "markdown",
   "metadata": {},
   "source": [
    "Voir la 2eme vidéo du chapitre 1"
   ]
  },
  {
   "cell_type": "code",
   "execution_count": 10,
   "metadata": {
    "tags": []
   },
   "outputs": [],
   "source": [
    "# importer le csv russian_tweets\n",
    "\n",
    "posts = pd.read_csv( \"russian_tweets.csv\", sep =',')"
   ]
  },
  {
   "cell_type": "code",
   "execution_count": 11,
   "metadata": {
    "tags": []
   },
   "outputs": [
    {
     "data": {
      "text/html": [
       "<div>\n",
       "<style scoped>\n",
       "    .dataframe tbody tr th:only-of-type {\n",
       "        vertical-align: middle;\n",
       "    }\n",
       "\n",
       "    .dataframe tbody tr th {\n",
       "        vertical-align: top;\n",
       "    }\n",
       "\n",
       "    .dataframe thead th {\n",
       "        text-align: right;\n",
       "    }\n",
       "</style>\n",
       "<table border=\"1\" class=\"dataframe\">\n",
       "  <thead>\n",
       "    <tr style=\"text-align: right;\">\n",
       "      <th></th>\n",
       "      <th>Unnamed: 0</th>\n",
       "      <th>content</th>\n",
       "    </tr>\n",
       "  </thead>\n",
       "  <tbody>\n",
       "    <tr>\n",
       "      <th>0</th>\n",
       "      <td>127447</td>\n",
       "      <td>LIVE STREAM VIDEO=&gt; Donald Trump Rallies in Co...</td>\n",
       "    </tr>\n",
       "    <tr>\n",
       "      <th>1</th>\n",
       "      <td>123642</td>\n",
       "      <td>Muslim Attacks NYPD Cops with Meat Cleaver. Me...</td>\n",
       "    </tr>\n",
       "    <tr>\n",
       "      <th>2</th>\n",
       "      <td>226970</td>\n",
       "      <td>.@vfpatlas well that's a swella word there (di...</td>\n",
       "    </tr>\n",
       "    <tr>\n",
       "      <th>3</th>\n",
       "      <td>138339</td>\n",
       "      <td>RT wehking_pamela: Bobby_Axelrod2k MMFlint don...</td>\n",
       "    </tr>\n",
       "    <tr>\n",
       "      <th>4</th>\n",
       "      <td>161610</td>\n",
       "      <td>Жители обстреливаемых районов Донецка проводят...</td>\n",
       "    </tr>\n",
       "    <tr>\n",
       "      <th>...</th>\n",
       "      <td>...</td>\n",
       "      <td>...</td>\n",
       "    </tr>\n",
       "    <tr>\n",
       "      <th>995</th>\n",
       "      <td>24329</td>\n",
       "      <td>How To Inspire People With Your Music! https:/...</td>\n",
       "    </tr>\n",
       "    <tr>\n",
       "      <th>996</th>\n",
       "      <td>315060</td>\n",
       "      <td>... https://t.co/AfWdTkKQlm</td>\n",
       "    </tr>\n",
       "    <tr>\n",
       "      <th>997</th>\n",
       "      <td>361901</td>\n",
       "      <td>Trevor Noah: Until we start treating racism li...</td>\n",
       "    </tr>\n",
       "    <tr>\n",
       "      <th>998</th>\n",
       "      <td>119948</td>\n",
       "      <td>SenSanders: RT SenJeffMerkley: We must act bol...</td>\n",
       "    </tr>\n",
       "    <tr>\n",
       "      <th>999</th>\n",
       "      <td>242678</td>\n",
       "      <td>Police: Man arrested for February shooting at ...</td>\n",
       "    </tr>\n",
       "  </tbody>\n",
       "</table>\n",
       "<p>1000 rows × 2 columns</p>\n",
       "</div>"
      ],
      "text/plain": [
       "     Unnamed: 0                                            content\n",
       "0        127447  LIVE STREAM VIDEO=> Donald Trump Rallies in Co...\n",
       "1        123642  Muslim Attacks NYPD Cops with Meat Cleaver. Me...\n",
       "2        226970  .@vfpatlas well that's a swella word there (di...\n",
       "3        138339  RT wehking_pamela: Bobby_Axelrod2k MMFlint don...\n",
       "4        161610  Жители обстреливаемых районов Донецка проводят...\n",
       "..          ...                                                ...\n",
       "995       24329  How To Inspire People With Your Music! https:/...\n",
       "996      315060                        ... https://t.co/AfWdTkKQlm\n",
       "997      361901  Trevor Noah: Until we start treating racism li...\n",
       "998      119948  SenSanders: RT SenJeffMerkley: We must act bol...\n",
       "999      242678  Police: Man arrested for February shooting at ...\n",
       "\n",
       "[1000 rows x 2 columns]"
      ]
     },
     "execution_count": 11,
     "metadata": {},
     "output_type": "execute_result"
    }
   ],
   "source": [
    "posts"
   ]
  },
  {
   "cell_type": "markdown",
   "metadata": {},
   "source": [
    "\n",
    "Dans cet exercice, vous avez un dataframe qui contient des tweets associés à l'Agence russe de recherche Internet.\n",
    "\n",
    "Votre tâche est de créer une nouvelle feature «char_count» qui calcule le nombre de caractères pour chaque tweet. Calculez également la longueur moyenne de chaque tweet. "
   ]
  },
  {
   "cell_type": "code",
   "execution_count": 12,
   "metadata": {
    "tags": []
   },
   "outputs": [
    {
     "name": "stdout",
     "output_type": "stream",
     "text": [
      "Mean Xs post length is : 103.462\n"
     ]
    }
   ],
   "source": [
    "# Créer une nouvelle feature  char_count\n",
    "posts[\"char_count\"] = posts[\"content\"].apply(len)\n",
    "\n",
    "# Printer la longueur moyenne des tweets\n",
    "print(\"Mean Xs post length is :\", posts[\"char_count\"].apply(\"mean\"))"
   ]
  },
  {
   "cell_type": "code",
   "execution_count": 13,
   "metadata": {
    "tags": []
   },
   "outputs": [
    {
     "data": {
      "text/html": [
       "<div>\n",
       "<style scoped>\n",
       "    .dataframe tbody tr th:only-of-type {\n",
       "        vertical-align: middle;\n",
       "    }\n",
       "\n",
       "    .dataframe tbody tr th {\n",
       "        vertical-align: top;\n",
       "    }\n",
       "\n",
       "    .dataframe thead th {\n",
       "        text-align: right;\n",
       "    }\n",
       "</style>\n",
       "<table border=\"1\" class=\"dataframe\">\n",
       "  <thead>\n",
       "    <tr style=\"text-align: right;\">\n",
       "      <th></th>\n",
       "      <th>transcript</th>\n",
       "      <th>url</th>\n",
       "    </tr>\n",
       "  </thead>\n",
       "  <tbody>\n",
       "    <tr>\n",
       "      <th>0</th>\n",
       "      <td>We're going to talk — my — a new lecture, just...</td>\n",
       "      <td>https://www.ted.com/talks/al_seckel_says_our_b...</td>\n",
       "    </tr>\n",
       "    <tr>\n",
       "      <th>1</th>\n",
       "      <td>This is a representation of your brain, and yo...</td>\n",
       "      <td>https://www.ted.com/talks/aaron_o_connell_maki...</td>\n",
       "    </tr>\n",
       "    <tr>\n",
       "      <th>2</th>\n",
       "      <td>It's a great honor today to share with you The...</td>\n",
       "      <td>https://www.ted.com/talks/carter_emmart_demos_...</td>\n",
       "    </tr>\n",
       "    <tr>\n",
       "      <th>3</th>\n",
       "      <td>My passions are music, technology and making t...</td>\n",
       "      <td>https://www.ted.com/talks/jared_ficklin_new_wa...</td>\n",
       "    </tr>\n",
       "    <tr>\n",
       "      <th>4</th>\n",
       "      <td>It used to be that if you wanted to get a comp...</td>\n",
       "      <td>https://www.ted.com/talks/jeremy_howard_the_wo...</td>\n",
       "    </tr>\n",
       "  </tbody>\n",
       "</table>\n",
       "</div>"
      ],
      "text/plain": [
       "                                          transcript  \\\n",
       "0  We're going to talk — my — a new lecture, just...   \n",
       "1  This is a representation of your brain, and yo...   \n",
       "2  It's a great honor today to share with you The...   \n",
       "3  My passions are music, technology and making t...   \n",
       "4  It used to be that if you wanted to get a comp...   \n",
       "\n",
       "                                                 url  \n",
       "0  https://www.ted.com/talks/al_seckel_says_our_b...  \n",
       "1  https://www.ted.com/talks/aaron_o_connell_maki...  \n",
       "2  https://www.ted.com/talks/carter_emmart_demos_...  \n",
       "3  https://www.ted.com/talks/jared_ficklin_new_wa...  \n",
       "4  https://www.ted.com/talks/jeremy_howard_the_wo...  "
      ]
     },
     "execution_count": 13,
     "metadata": {},
     "output_type": "execute_result"
    }
   ],
   "source": [
    "# importer le csv ted\n",
    "ted = pd.read_csv( \"ted.csv\", sep =',')\n",
    "\n",
    "ted.head()"
   ]
  },
  {
   "cell_type": "markdown",
   "metadata": {},
   "source": [
    "\n",
    "ted est un dataframe qui contient les transcriptions de 500 conférences TED. Votre travail consiste à calculer une nouvelle fonctionnalité word_count qui contient le nombre approximatif de mots pour chaque discours. Par conséquent, vous devez également calculer le nombre moyen de mots des exposés. Les transcriptions sont disponibles dans la colonne transcript.\n",
    "\n",
    "Vous devrez définir une fonction count_words qui prend une chaîne de charactères comme argument et renvoie le nombre de mots de la chaîne. Vous devrez ensuite appliquer cette fonction à la colonne de transcript de ted pour créer pour créer une nouvelle feature (caractéristique). \n",
    "\n",
    "Il faut ensuite printer le  nombre moyen de mots de toutes les transcriptions"
   ]
  },
  {
   "cell_type": "code",
   "execution_count": 14,
   "metadata": {
    "tags": []
   },
   "outputs": [
    {
     "name": "stdout",
     "output_type": "stream",
     "text": [
      "Mean ted words quantity is : 1987.1\n"
     ]
    }
   ],
   "source": [
    "# définisser la fonction count_words\n",
    "\n",
    "def count_words(string):\n",
    "\t# Split the string into words\n",
    "    words = string.split()\n",
    "    \n",
    "    # Return the number of words\n",
    "    return len(words)\n",
    "\n",
    "# créer une nouvelle colonne contenant le nombre de mots de chaque transcription\n",
    "ted[\"count_words\"] = ted[\"transcript\"].apply(count_words)\n",
    "\n",
    "# Calculer le nombre moyen de mots\n",
    "print(\"Mean ted words quantity is :\",ted[\"count_words\"].apply(\"mean\"))"
   ]
  },
  {
   "cell_type": "markdown",
   "metadata": {},
   "source": [
    "Revenons aux tweets russes. Dans cet exercice, vous calculerez le nombre de hashtags et de mentions @ dans chaque tweet en définissant respectivement deux fonctions count_hashtags () et count_mentions () et en les appliquant à la fonction de contenu des tweets.\n",
    "\n"
   ]
  },
  {
   "cell_type": "code",
   "execution_count": 15,
   "metadata": {
    "tags": []
   },
   "outputs": [
    {
     "data": {
      "text/plain": [
       "Text(0.5, 1.0, 'Distribution of hashtags quantity')"
      ]
     },
     "execution_count": 15,
     "metadata": {},
     "output_type": "execute_result"
    },
    {
     "data": {
      "image/png": "[encoded data removed]",
      "text/plain": [
       "<Figure size 640x480 with 1 Axes>"
      ]
     },
     "metadata": {},
     "output_type": "display_data"
    }
   ],
   "source": [
    "# Définisser la fonction qui compte les hashtags. \n",
    "#utilisez startswith () pour vérifier si un mot particulier commence par '#'.\n",
    "import matplotlib.pyplot as plt\n",
    "import seaborn as sns\n",
    "sns.set()\n",
    "\n",
    "def count_hashtags(string):\n",
    "\t# Split string en  words\n",
    "    words = string.split()\n",
    "    \n",
    "    # créer une liste qui contient les mots avec #\n",
    "    hashtags = [word for word in words if word.startswith(\"#\")]\n",
    "    \n",
    "    # Retoruner le nombre hashtags\n",
    "    return len(hashtags)\n",
    "\n",
    "# Créer une nouvelle feature contenant le nombre de hashtags dans 'content'\n",
    "posts[\"count_#\"] = posts[\"content\"].apply(count_hashtags)\n",
    "\n",
    "#afficher un histogramme des du nombre de hashtags\n",
    "posts[\"count_#\"].hist(bins=10)\n",
    "plt.title(\"Distribution of hashtags quantity\")"
   ]
  },
  {
   "cell_type": "code",
   "execution_count": 16,
   "metadata": {
    "tags": []
   },
   "outputs": [
    {
     "data": {
      "text/plain": [
       "Text(0.5, 1.0, 'Distribution of mentions quantity')"
      ]
     },
     "execution_count": 16,
     "metadata": {},
     "output_type": "execute_result"
    },
    {
     "data": {
      "image/png": "[encoded data removed]",
      "text/plain": [
       "<Figure size 640x480 with 1 Axes>"
      ]
     },
     "metadata": {},
     "output_type": "display_data"
    }
   ],
   "source": [
    "# définisser une fonction qui compte le nombre de mentions @mention\n",
    "#utilisez startswith () pour vérifier si un mot particulier commence par '@'.\n",
    "\n",
    "def count_mentions(string):\n",
    "\t# Split string en  words\n",
    "    words = string.split()\n",
    "    \n",
    "     # créer une liste qui contient les mots avec @\n",
    "    ats = [word for word in words if word.startswith(\"@\")]\n",
    "    \n",
    "    # Retoruner le nombre de mentions\n",
    "    return len(ats)\n",
    "\n",
    "#afficher un histogramme des du nombre de hashtags\n",
    "posts[\"count_@\"] = posts[\"content\"].apply(count_mentions)\n",
    "posts[\"count_@\"].hist(bins=10)\n",
    "plt.title(\"Distribution of mentions quantity\")"
   ]
  },
  {
   "cell_type": "markdown",
   "metadata": {},
   "source": [
    "# Chapitre 2 - Text preprocessing, POS tagging and NER "
   ]
  },
  {
   "cell_type": "markdown",
   "metadata": {},
   "source": [
    "Voir vidéo 1 du chapitre 2"
   ]
  },
  {
   "cell_type": "markdown",
   "metadata": {},
   "source": [
    "\n",
    "Identifiez la liste des mots parmi les choix qui n'ont pas le même lemma"
   ]
  },
  {
   "cell_type": "markdown",
   "metadata": {},
   "source": [
    "1 He, She, I, They \n",
    "\n",
    "2 Am, Are, Is, Was\n",
    "\n",
    "3 Increase, Increases, Increasing, Increased\n",
    "\n",
    "4 Car, Bike, Truck, Bus\n",
    "\n"
   ]
  },
  {
   "cell_type": "markdown",
   "metadata": {},
   "source": [
    "\n",
    "Dans cet exercice, vous \"tokeniserer\" l'un des discours les plus célèbres de tous les temps: le discours de Gettysburg prononcé par le président américain Abraham Lincoln pendant la guerre civile américaine.\n",
    "\n",
    "Le discours entier est disponible sous la forme d'une chaîne nommée gettysburg."
   ]
  },
  {
   "cell_type": "code",
   "execution_count": 17,
   "metadata": {
    "tags": []
   },
   "outputs": [],
   "source": [
    "gettysburg = \"Four score and seven years ago our fathers brought forth on this continent, a new nation, conceived in Liberty, and dedicated to the proposition that all men are created equal. Now we're engaged in a great civil war, testing whether that nation, or any nation so conceived and so dedicated, can long endure. We're met on a great battlefield of that war. We've come to dedicate a portion of that field, as a final resting place for those who here gave their lives that that nation might live. It's altogether fitting and proper that we should do this. But, in a larger sense, we can't dedicate - we can not consecrate - we can not hallow - this ground. The brave men, living and dead, who struggled here, have consecrated it, far above our poor power to add or detract. The world will little note, nor long remember what we say here, but it can never forget what they did here. It is for us the living, rather, to be dedicated here to the unfinished work which they who fought here have thus far so nobly advanced. It's rather for us to be here dedicated to the great task remaining before us - that from these honored dead we take increased devotion to that cause for which they gave the last full measure of devotion - that we here highly resolve that these dead shall not have died in vain - that this nation, under God, shall have a new birth of freedom - and that government of the people, by the people, for the people, shall not perish from the earth.\""
   ]
  },
  {
   "cell_type": "code",
   "execution_count": 18,
   "metadata": {
    "scrolled": true,
    "tags": []
   },
   "outputs": [
    {
     "name": "stdout",
     "output_type": "stream",
     "text": [
      "Collecting en-core-web-sm==3.5.0\n",
      "  Downloading https://github.com/explosion/spacy-models/releases/download/en_core_web_sm-3.5.0/en_core_web_sm-3.5.0-py3-none-any.whl (12.8 MB)\n",
      "     ---------------------------------------- 0.0/12.8 MB ? eta -:--:--\n",
      "     --------------------------------------- 0.0/12.8 MB 445.2 kB/s eta 0:00:29\n",
      "     - -------------------------------------- 0.5/12.8 MB 5.0 MB/s eta 0:00:03\n",
      "     ----- ---------------------------------- 1.8/12.8 MB 12.7 MB/s eta 0:00:01\n",
      "     ----------- ---------------------------- 3.7/12.8 MB 19.9 MB/s eta 0:00:01\n",
      "     -------------------- ------------------- 6.5/12.8 MB 27.9 MB/s eta 0:00:01\n",
      "     -------------------------------- ------ 10.7/12.8 MB 54.4 MB/s eta 0:00:01\n",
      "     --------------------------------------- 12.8/12.8 MB 65.1 MB/s eta 0:00:00\n",
      "Requirement already satisfied: spacy<3.6.0,>=3.5.0 in c:\\users\\redoa\\.conda\\envs\\nlpenv\\lib\\site-packages (from en-core-web-sm==3.5.0) (3.5.3)\n",
      "Requirement already satisfied: spacy-legacy<3.1.0,>=3.0.11 in c:\\users\\redoa\\.conda\\envs\\nlpenv\\lib\\site-packages (from spacy<3.6.0,>=3.5.0->en-core-web-sm==3.5.0) (3.0.12)\n",
      "Requirement already satisfied: spacy-loggers<2.0.0,>=1.0.0 in c:\\users\\redoa\\.conda\\envs\\nlpenv\\lib\\site-packages (from spacy<3.6.0,>=3.5.0->en-core-web-sm==3.5.0) (1.0.4)\n",
      "Requirement already satisfied: murmurhash<1.1.0,>=0.28.0 in c:\\users\\redoa\\.conda\\envs\\nlpenv\\lib\\site-packages (from spacy<3.6.0,>=3.5.0->en-core-web-sm==3.5.0) (1.0.7)\n",
      "Requirement already satisfied: cymem<2.1.0,>=2.0.2 in c:\\users\\redoa\\.conda\\envs\\nlpenv\\lib\\site-packages (from spacy<3.6.0,>=3.5.0->en-core-web-sm==3.5.0) (2.0.6)\n",
      "Requirement already satisfied: preshed<3.1.0,>=3.0.2 in c:\\users\\redoa\\.conda\\envs\\nlpenv\\lib\\site-packages (from spacy<3.6.0,>=3.5.0->en-core-web-sm==3.5.0) (3.0.6)\n",
      "Requirement already satisfied: thinc<8.2.0,>=8.1.8 in c:\\users\\redoa\\.conda\\envs\\nlpenv\\lib\\site-packages (from spacy<3.6.0,>=3.5.0->en-core-web-sm==3.5.0) (8.1.10)\n",
      "Requirement already satisfied: wasabi<1.2.0,>=0.9.1 in c:\\users\\redoa\\.conda\\envs\\nlpenv\\lib\\site-packages (from spacy<3.6.0,>=3.5.0->en-core-web-sm==3.5.0) (0.9.1)\n",
      "Requirement already satisfied: srsly<3.0.0,>=2.4.3 in c:\\users\\redoa\\.conda\\envs\\nlpenv\\lib\\site-packages (from spacy<3.6.0,>=3.5.0->en-core-web-sm==3.5.0) (2.4.6)\n",
      "Requirement already satisfied: catalogue<2.1.0,>=2.0.6 in c:\\users\\redoa\\.conda\\envs\\nlpenv\\lib\\site-packages (from spacy<3.6.0,>=3.5.0->en-core-web-sm==3.5.0) (2.0.7)\n",
      "Requirement already satisfied: typer<0.8.0,>=0.3.0 in c:\\users\\redoa\\.conda\\envs\\nlpenv\\lib\\site-packages (from spacy<3.6.0,>=3.5.0->en-core-web-sm==3.5.0) (0.4.1)\n",
      "Requirement already satisfied: pathy>=0.10.0 in c:\\users\\redoa\\.conda\\envs\\nlpenv\\lib\\site-packages (from spacy<3.6.0,>=3.5.0->en-core-web-sm==3.5.0) (0.10.1)\n",
      "Requirement already satisfied: smart-open<7.0.0,>=5.2.1 in c:\\users\\redoa\\.conda\\envs\\nlpenv\\lib\\site-packages (from spacy<3.6.0,>=3.5.0->en-core-web-sm==3.5.0) (5.2.1)\n",
      "Requirement already satisfied: tqdm<5.0.0,>=4.38.0 in c:\\users\\redoa\\.conda\\envs\\nlpenv\\lib\\site-packages (from spacy<3.6.0,>=3.5.0->en-core-web-sm==3.5.0) (4.65.0)\n",
      "Requirement already satisfied: numpy>=1.15.0 in c:\\users\\redoa\\.conda\\envs\\nlpenv\\lib\\site-packages (from spacy<3.6.0,>=3.5.0->en-core-web-sm==3.5.0) (1.26.0)\n",
      "Requirement already satisfied: requests<3.0.0,>=2.13.0 in c:\\users\\redoa\\.conda\\envs\\nlpenv\\lib\\site-packages (from spacy<3.6.0,>=3.5.0->en-core-web-sm==3.5.0) (2.31.0)\n",
      "Requirement already satisfied: pydantic!=1.8,!=1.8.1,<1.11.0,>=1.7.4 in c:\\users\\redoa\\.conda\\envs\\nlpenv\\lib\\site-packages (from spacy<3.6.0,>=3.5.0->en-core-web-sm==3.5.0) (1.10.12)\n",
      "Requirement already satisfied: jinja2 in c:\\users\\redoa\\.conda\\envs\\nlpenv\\lib\\site-packages (from spacy<3.6.0,>=3.5.0->en-core-web-sm==3.5.0) (3.1.2)\n",
      "Requirement already satisfied: setuptools in c:\\users\\redoa\\.conda\\envs\\nlpenv\\lib\\site-packages (from spacy<3.6.0,>=3.5.0->en-core-web-sm==3.5.0) (68.0.0)\n",
      "Requirement already satisfied: packaging>=20.0 in c:\\users\\redoa\\.conda\\envs\\nlpenv\\lib\\site-packages (from spacy<3.6.0,>=3.5.0->en-core-web-sm==3.5.0) (23.1)\n",
      "Requirement already satisfied: langcodes<4.0.0,>=3.2.0 in c:\\users\\redoa\\.conda\\envs\\nlpenv\\lib\\site-packages (from spacy<3.6.0,>=3.5.0->en-core-web-sm==3.5.0) (3.3.0)\n",
      "Requirement already satisfied: typing-extensions>=4.2.0 in c:\\users\\redoa\\.conda\\envs\\nlpenv\\lib\\site-packages (from pydantic!=1.8,!=1.8.1,<1.11.0,>=1.7.4->spacy<3.6.0,>=3.5.0->en-core-web-sm==3.5.0) (4.7.1)\n",
      "Requirement already satisfied: charset-normalizer<4,>=2 in c:\\users\\redoa\\.conda\\envs\\nlpenv\\lib\\site-packages (from requests<3.0.0,>=2.13.0->spacy<3.6.0,>=3.5.0->en-core-web-sm==3.5.0) (2.0.4)\n",
      "Requirement already satisfied: idna<4,>=2.5 in c:\\users\\redoa\\.conda\\envs\\nlpenv\\lib\\site-packages (from requests<3.0.0,>=2.13.0->spacy<3.6.0,>=3.5.0->en-core-web-sm==3.5.0) (3.4)\n",
      "Requirement already satisfied: urllib3<3,>=1.21.1 in c:\\users\\redoa\\.conda\\envs\\nlpenv\\lib\\site-packages (from requests<3.0.0,>=2.13.0->spacy<3.6.0,>=3.5.0->en-core-web-sm==3.5.0) (1.26.16)\n",
      "Requirement already satisfied: certifi>=2017.4.17 in c:\\users\\redoa\\.conda\\envs\\nlpenv\\lib\\site-packages (from requests<3.0.0,>=2.13.0->spacy<3.6.0,>=3.5.0->en-core-web-sm==3.5.0) (2023.7.22)\n",
      "Requirement already satisfied: blis<0.8.0,>=0.7.8 in c:\\users\\redoa\\.conda\\envs\\nlpenv\\lib\\site-packages (from thinc<8.2.0,>=8.1.8->spacy<3.6.0,>=3.5.0->en-core-web-sm==3.5.0) (0.7.9)\n",
      "Requirement already satisfied: confection<1.0.0,>=0.0.1 in c:\\users\\redoa\\.conda\\envs\\nlpenv\\lib\\site-packages (from thinc<8.2.0,>=8.1.8->spacy<3.6.0,>=3.5.0->en-core-web-sm==3.5.0) (0.0.4)\n",
      "Requirement already satisfied: colorama in c:\\users\\redoa\\.conda\\envs\\nlpenv\\lib\\site-packages (from tqdm<5.0.0,>=4.38.0->spacy<3.6.0,>=3.5.0->en-core-web-sm==3.5.0) (0.4.6)\n",
      "Requirement already satisfied: click<9.0.0,>=7.1.1 in c:\\users\\redoa\\.conda\\envs\\nlpenv\\lib\\site-packages (from typer<0.8.0,>=0.3.0->spacy<3.6.0,>=3.5.0->en-core-web-sm==3.5.0) (8.0.4)\n",
      "Requirement already satisfied: MarkupSafe>=2.0 in c:\\users\\redoa\\.conda\\envs\\nlpenv\\lib\\site-packages (from jinja2->spacy<3.6.0,>=3.5.0->en-core-web-sm==3.5.0) (2.1.1)\n",
      "[!] As of spaCy v3.0, shortcuts like 'en' are deprecated. Please use the full\n",
      "pipeline package name 'en_core_web_sm' instead.\n",
      "[+] Download and installation successful\n",
      "You can now load the package via spacy.load('en_core_web_sm')\n",
      "['Four', 'score', 'and', 'seven', 'years', 'ago', 'our', 'fathers', 'brought', 'forth', 'on', 'this', 'continent', ',', 'a', 'new', 'nation', ',', 'conceived', 'in', 'Liberty', ',', 'and', 'dedicated', 'to', 'the', 'proposition', 'that', 'all', 'men', 'are', 'created', 'equal', '.', 'Now', 'we', \"'re\", 'engaged', 'in', 'a', 'great', 'civil', 'war', ',', 'testing', 'whether', 'that', 'nation', ',', 'or', 'any', 'nation', 'so', 'conceived', 'and', 'so', 'dedicated', ',', 'can', 'long', 'endure', '.', 'We', \"'re\", 'met', 'on', 'a', 'great', 'battlefield', 'of', 'that', 'war', '.', 'We', \"'ve\", 'come', 'to', 'dedicate', 'a', 'portion', 'of', 'that', 'field', ',', 'as', 'a', 'final', 'resting', 'place', 'for', 'those', 'who', 'here', 'gave', 'their', 'lives', 'that', 'that', 'nation', 'might', 'live', '.', 'It', \"'s\", 'altogether', 'fitting', 'and', 'proper', 'that', 'we', 'should', 'do', 'this', '.', 'But', ',', 'in', 'a', 'larger', 'sense', ',', 'we', 'ca', \"n't\", 'dedicate', '-', 'we', 'can', 'not', 'consecrate', '-', 'we', 'can', 'not', 'hallow', '-', 'this', 'ground', '.', 'The', 'brave', 'men', ',', 'living', 'and', 'dead', ',', 'who', 'struggled', 'here', ',', 'have', 'consecrated', 'it', ',', 'far', 'above', 'our', 'poor', 'power', 'to', 'add', 'or', 'detract', '.', 'The', 'world', 'will', 'little', 'note', ',', 'nor', 'long', 'remember', 'what', 'we', 'say', 'here', ',', 'but', 'it', 'can', 'never', 'forget', 'what', 'they', 'did', 'here', '.', 'It', 'is', 'for', 'us', 'the', 'living', ',', 'rather', ',', 'to', 'be', 'dedicated', 'here', 'to', 'the', 'unfinished', 'work', 'which', 'they', 'who', 'fought', 'here', 'have', 'thus', 'far', 'so', 'nobly', 'advanced', '.', 'It', \"'s\", 'rather', 'for', 'us', 'to', 'be', 'here', 'dedicated', 'to', 'the', 'great', 'task', 'remaining', 'before', 'us', '-', 'that', 'from', 'these', 'honored', 'dead', 'we', 'take', 'increased', 'devotion', 'to', 'that', 'cause', 'for', 'which', 'they', 'gave', 'the', 'last', 'full', 'measure', 'of', 'devotion', '-', 'that', 'we', 'here', 'highly', 'resolve', 'that', 'these', 'dead', 'shall', 'not', 'have', 'died', 'in', 'vain', '-', 'that', 'this', 'nation', ',', 'under', 'God', ',', 'shall', 'have', 'a', 'new', 'birth', 'of', 'freedom', '-', 'and', 'that', 'government', 'of', 'the', 'people', ',', 'by', 'the', 'people', ',', 'for', 'the', 'people', ',', 'shall', 'not', 'perish', 'from', 'the', 'earth', '.']\n"
     ]
    }
   ],
   "source": [
    "import spacy\n",
    "!python -m spacy download en\n",
    "\n",
    "# charger 'en_core_web_sm'\n",
    "nlp = spacy.load(\"en_core_web_sm\")\n",
    "\n",
    "# Créer un Doc object\n",
    "doc = nlp(gettysburg)\n",
    "\n",
    "# Generer les tokens et les printer\n",
    "tokens = [token.text for token in doc]\n",
    "\n",
    "print(tokens)"
   ]
  },
  {
   "cell_type": "code",
   "execution_count": 19,
   "metadata": {
    "scrolled": true,
    "tags": []
   },
   "outputs": [
    {
     "name": "stdout",
     "output_type": "stream",
     "text": [
      "['four', 'score', 'and', 'seven', 'year', 'ago', 'our', 'father', 'bring', 'forth', 'on', 'this', 'continent', ',', 'a', 'new', 'nation', ',', 'conceive', 'in', 'Liberty', ',', 'and', 'dedicate', 'to', 'the', 'proposition', 'that', 'all', 'man', 'be', 'create', 'equal', '.', 'now', 'we', 'be', 'engage', 'in', 'a', 'great', 'civil', 'war', ',', 'test', 'whether', 'that', 'nation', ',', 'or', 'any', 'nation', 'so', 'conceive', 'and', 'so', 'dedicated', ',', 'can', 'long', 'endure', '.', 'we', 'be', 'meet', 'on', 'a', 'great', 'battlefield', 'of', 'that', 'war', '.', 'we', \"'ve\", 'come', 'to', 'dedicate', 'a', 'portion', 'of', 'that', 'field', ',', 'as', 'a', 'final', 'resting', 'place', 'for', 'those', 'who', 'here', 'give', 'their', 'life', 'that', 'that', 'nation', 'might', 'live', '.', 'it', 'be', 'altogether', 'fitting', 'and', 'proper', 'that', 'we', 'should', 'do', 'this', '.', 'but', ',', 'in', 'a', 'large', 'sense', ',', 'we', 'can', 'not', 'dedicate', '-', 'we', 'can', 'not', 'consecrate', '-', 'we', 'can', 'not', 'hallow', '-', 'this', 'ground', '.', 'the', 'brave', 'man', ',', 'living', 'and', 'dead', ',', 'who', 'struggle', 'here', ',', 'have', 'consecrate', 'it', ',', 'far', 'above', 'our', 'poor', 'power', 'to', 'add', 'or', 'detract', '.', 'the', 'world', 'will', 'little', 'note', ',', 'nor', 'long', 'remember', 'what', 'we', 'say', 'here', ',', 'but', 'it', 'can', 'never', 'forget', 'what', 'they', 'do', 'here', '.', 'it', 'be', 'for', 'we', 'the', 'living', ',', 'rather', ',', 'to', 'be', 'dedicate', 'here', 'to', 'the', 'unfinished', 'work', 'which', 'they', 'who', 'fight', 'here', 'have', 'thus', 'far', 'so', 'nobly', 'advanced', '.', 'it', 'be', 'rather', 'for', 'we', 'to', 'be', 'here', 'dedicated', 'to', 'the', 'great', 'task', 'remain', 'before', 'we', '-', 'that', 'from', 'these', 'honored', 'dead', 'we', 'take', 'increase', 'devotion', 'to', 'that', 'cause', 'for', 'which', 'they', 'give', 'the', 'last', 'full', 'measure', 'of', 'devotion', '-', 'that', 'we', 'here', 'highly', 'resolve', 'that', 'these', 'dead', 'shall', 'not', 'have', 'die', 'in', 'vain', '-', 'that', 'this', 'nation', ',', 'under', 'God', ',', 'shall', 'have', 'a', 'new', 'birth', 'of', 'freedom', '-', 'and', 'that', 'government', 'of', 'the', 'people', ',', 'by', 'the', 'people', ',', 'for', 'the', 'people', ',', 'shall', 'not', 'perish', 'from', 'the', 'earth', '.']\n"
     ]
    }
   ],
   "source": [
    "# import spacy\n",
    "# !python -m spacy download en\n",
    "# # charger 'en_core_web_sm'\n",
    "# nlp = spacy.load(\"en_core_web_sm\")\n",
    "\n",
    "# # Créer un Doc objectd\n",
    "# doc = nlp(gettysburg)\n",
    "\n",
    "# Generer les lemmas\n",
    "lemmas = [token.lemma_ for token in doc]\n",
    "\n",
    "print(lemmas)\n",
    "\n"
   ]
  },
  {
   "cell_type": "code",
   "execution_count": 20,
   "metadata": {
    "tags": []
   },
   "outputs": [
    {
     "name": "stdout",
     "output_type": "stream",
     "text": [
      "four score and seven year ago our father bring forth on this continent , a new nation , conceive in Liberty , and dedicate to the proposition that all man be create equal . now we be engage in a great civil war , test whether that nation , or any nation so conceive and so dedicated , can long endure . we be meet on a great battlefield of that war . we 've come to dedicate a portion of that field , as a final resting place for those who here give their life that that nation might live . it be altogether fitting and proper that we should do this . but , in a large sense , we can not dedicate - we can not consecrate - we can not hallow - this ground . the brave man , living and dead , who struggle here , have consecrate it , far above our poor power to add or detract . the world will little note , nor long remember what we say here , but it can never forget what they do here . it be for we the living , rather , to be dedicate here to the unfinished work which they who fight here have thus far so nobly advanced . it be rather for we to be here dedicated to the great task remain before we - that from these honored dead we take increase devotion to that cause for which they give the last full measure of devotion - that we here highly resolve that these dead shall not have die in vain - that this nation , under God , shall have a new birth of freedom - and that government of the people , by the people , for the people , shall not perish from the earth .\n"
     ]
    }
   ],
   "source": [
    "# convertir lemmas en string (utiliser .join() ) et les printer\n",
    "print(\" \".join(lemmas))"
   ]
  },
  {
   "cell_type": "markdown",
   "metadata": {},
   "source": [
    "Voir la 2eme vidéo du chapitre 2"
   ]
  },
  {
   "cell_type": "markdown",
   "metadata": {},
   "source": [
    "Dans cet exercice, on va traiter l'extrait d'un article de blog. Votre tâche consiste à préparer ce texte dans un format plus convivial pour la machine. Cela impliquera la conversion en minuscules, la lemmatisation et la suppression des mots vides, des ponctuations et des caractères non alphabétiques.\n",
    "\n",
    "L'extrait est disponible dans blog "
   ]
  },
  {
   "cell_type": "code",
   "execution_count": 21,
   "metadata": {
    "tags": []
   },
   "outputs": [],
   "source": [
    "blog = '\\nTwenty-first-century politics has witnessed an alarming rise of populism in the U.S. and Europe. The first warning signs came with the UK Brexit Referendum vote in 2016 swinging in the way of Leave. This was followed by a stupendous victory by billionaire Donald Trump to become the 45th President of the United States in November 2016. Since then, Europe has seen a steady rise in populist and far-right parties that have capitalized on Europe’s Immigration Crisis to raise nationalist and anti-Europe sentiments. Some instances include Alternative for Germany (AfD) winning 12.6% of all seats and entering the Bundestag, thus upsetting Germany’s political order for the first time since the Second World War, the success of the Five Star Movement in Italy and the surge in popularity of neo-nazism and neo-fascism in countries such as Hungary, Czech Republic, Poland and Austria.\\n'"
   ]
  },
  {
   "cell_type": "code",
   "execution_count": 22,
   "metadata": {
    "tags": []
   },
   "outputs": [
    {
     "name": "stdout",
     "output_type": "stream",
     "text": [
      "century politic witness alarming rise populism Europe warning sign come UK Brexit Referendum vote swinge way Leave follow stupendous victory billionaire Donald Trump President United States November Europe steady rise populist far right party capitalize Europe Immigration Crisis raise nationalist anti europe sentiment instance include Alternative Germany AfD win seat enter Bundestag upset Germany political order time Second World War success Five Star Movement Italy surge popularity neo nazism neo fascism country Hungary Czech Republic Poland Austria\n"
     ]
    }
   ],
   "source": [
    "# Charger le modèle et créer un  object doc\n",
    "nlp = spacy.load(\"en_core_web_sm\")\n",
    "\n",
    "doc = nlp(blog)\n",
    "# obetnir une liste de stopwords\n",
    "stopwords = spacy.lang.en.stop_words.STOP_WORDS\n",
    "\n",
    "# Generer des tokens lemmatizés\n",
    "lemmas = [token.lemma_ for token in doc]\n",
    "\n",
    "# Enlever les stopwords et les termes non alphabétiques (utiliser .isalpha()) tokens\n",
    "\n",
    "a_lemmas = [lemma for lemma in lemmas if lemma.isalpha() and lemma not in stopwords]\n",
    "\n",
    "# convertir lemmas en string et les printer\n",
    "print(\" \".join(a_lemmas))"
   ]
  },
  {
   "cell_type": "raw",
   "metadata": {},
   "source": [
    "Dans cet exercice, nous reprennons les TED Talks du premier chapitre. Votre tâche consiste à nettoyer ces exposés à l'aide des techniques décrites précédemment en écrivant une fonction et en l'appliquant à la colonne \"transcript\" du dataframe df .\n",
    "\n",
    "La liste des mots vides est disponible sous forme de mots vides."
   ]
  },
  {
   "cell_type": "code",
   "execution_count": 23,
   "metadata": {
    "tags": []
   },
   "outputs": [
    {
     "data": {
      "text/plain": [
       "0      We're going to talk — my — a new lecture, just...\n",
       "1      This is a representation of your brain, and yo...\n",
       "2      It's a great honor today to share with you The...\n",
       "3      My passions are music, technology and making t...\n",
       "4      It used to be that if you wanted to get a comp...\n",
       "                             ...                        \n",
       "495    Today I'm going to unpack for you three exampl...\n",
       "496    Both myself and my brother belong to the under...\n",
       "497    John Hockenberry: It's great to be here with y...\n",
       "498    What you're doing, right now, at this very mom...\n",
       "499    We've got a real problem with math education r...\n",
       "Name: transcript, Length: 500, dtype: object"
      ]
     },
     "execution_count": 23,
     "metadata": {},
     "output_type": "execute_result"
    }
   ],
   "source": [
    "ted[\"transcript\"]"
   ]
  },
  {
   "cell_type": "code",
   "execution_count": 25,
   "metadata": {
    "tags": []
   },
   "outputs": [
    {
     "data": {
      "text/plain": [
       "['ArrayType',\n",
       " 'CythonCImports',\n",
       " 'CythonDotImportedFromElsewhere',\n",
       " 'CythonDotParallel',\n",
       " 'CythonMetaType',\n",
       " 'CythonType',\n",
       " 'CythonTypeObject',\n",
       " 'NULL',\n",
       " 'PointerType',\n",
       " 'Py_UCS4',\n",
       " 'Py_UNICODE',\n",
       " 'Py_hash_t',\n",
       " 'Py_ssize_t',\n",
       " 'Py_tss_t',\n",
       " 'StructType',\n",
       " 'UnionType',\n",
       " '__builtins__',\n",
       " '__cached__',\n",
       " '__doc__',\n",
       " '__file__',\n",
       " '__loader__',\n",
       " '__name__',\n",
       " '__package__',\n",
       " '__spec__',\n",
       " '__version__',\n",
       " 'absolute_import',\n",
       " 'address',\n",
       " 'always_allows_keywords',\n",
       " 'annotation_typing',\n",
       " 'array',\n",
       " 'basestring',\n",
       " 'binding',\n",
       " 'bint',\n",
       " 'boundscheck',\n",
       " 'cast',\n",
       " 'ccall',\n",
       " 'cclass',\n",
       " 'cdiv',\n",
       " 'cdivision',\n",
       " 'cdivision_warnings',\n",
       " 'cfunc',\n",
       " 'char',\n",
       " 'cmod',\n",
       " 'compile',\n",
       " 'compiled',\n",
       " 'complex',\n",
       " 'complex_types',\n",
       " 'dataclasses',\n",
       " 'declare',\n",
       " 'double',\n",
       " 'doublecomplex',\n",
       " 'embedsignature',\n",
       " 'exceptval',\n",
       " 'final',\n",
       " 'float',\n",
       " 'float_types',\n",
       " 'floatcomplex',\n",
       " 'floating',\n",
       " 'freelist',\n",
       " 'fused_type',\n",
       " 'gil',\n",
       " 'gs',\n",
       " 'i',\n",
       " 'index_type',\n",
       " 'infer_types',\n",
       " 'initializedcheck',\n",
       " 'inline',\n",
       " 'int',\n",
       " 'int_types',\n",
       " 'integral',\n",
       " 'internal',\n",
       " 'linetrace',\n",
       " 'load_ipython_extension',\n",
       " 'locals',\n",
       " 'long',\n",
       " 'longdouble',\n",
       " 'longdoublecomplex',\n",
       " 'longlong',\n",
       " 'name',\n",
       " 'no_gc',\n",
       " 'no_gc_clear',\n",
       " 'nogil',\n",
       " 'nonecheck',\n",
       " 'numeric',\n",
       " 'optimize',\n",
       " 'other_types',\n",
       " 'overflowcheck',\n",
       " 'p_Py_UCS4',\n",
       " 'p_Py_UNICODE',\n",
       " 'p_Py_hash_t',\n",
       " 'p_Py_ssize_t',\n",
       " 'p_Py_tss_t',\n",
       " 'p_bint',\n",
       " 'p_char',\n",
       " 'p_complex',\n",
       " 'p_double',\n",
       " 'p_doublecomplex',\n",
       " 'p_float',\n",
       " 'p_floatcomplex',\n",
       " 'p_int',\n",
       " 'p_long',\n",
       " 'p_longdouble',\n",
       " 'p_longdoublecomplex',\n",
       " 'p_longlong',\n",
       " 'p_short',\n",
       " 'p_size_t',\n",
       " 'p_void',\n",
       " 'pointer',\n",
       " 'pp_Py_UCS4',\n",
       " 'pp_Py_UNICODE',\n",
       " 'pp_Py_hash_t',\n",
       " 'pp_Py_ssize_t',\n",
       " 'pp_Py_tss_t',\n",
       " 'pp_bint',\n",
       " 'pp_char',\n",
       " 'pp_complex',\n",
       " 'pp_double',\n",
       " 'pp_doublecomplex',\n",
       " 'pp_float',\n",
       " 'pp_floatcomplex',\n",
       " 'pp_int',\n",
       " 'pp_long',\n",
       " 'pp_longdouble',\n",
       " 'pp_longdoublecomplex',\n",
       " 'pp_longlong',\n",
       " 'pp_short',\n",
       " 'pp_size_t',\n",
       " 'pp_void',\n",
       " 'ppp_Py_UCS4',\n",
       " 'ppp_Py_UNICODE',\n",
       " 'ppp_Py_hash_t',\n",
       " 'ppp_Py_ssize_t',\n",
       " 'ppp_Py_tss_t',\n",
       " 'ppp_bint',\n",
       " 'ppp_char',\n",
       " 'ppp_complex',\n",
       " 'ppp_double',\n",
       " 'ppp_doublecomplex',\n",
       " 'ppp_float',\n",
       " 'ppp_floatcomplex',\n",
       " 'ppp_int',\n",
       " 'ppp_long',\n",
       " 'ppp_longdouble',\n",
       " 'ppp_longdoublecomplex',\n",
       " 'ppp_longlong',\n",
       " 'ppp_short',\n",
       " 'ppp_size_t',\n",
       " 'ppp_void',\n",
       " 'profile',\n",
       " 'py_complex',\n",
       " 'py_float',\n",
       " 'py_int',\n",
       " 'py_long',\n",
       " 'reprname',\n",
       " 'returns',\n",
       " 'sPy_hash_t',\n",
       " 'schar',\n",
       " 'short',\n",
       " 'sint',\n",
       " 'size_t',\n",
       " 'sizeof',\n",
       " 'slong',\n",
       " 'slonglong',\n",
       " 'sshort',\n",
       " 'struct',\n",
       " 't',\n",
       " 'test_assert_path_exists',\n",
       " 'test_fail_if_path_exists',\n",
       " 'to_repr',\n",
       " 'total_ordering',\n",
       " 'type_ordering',\n",
       " 'type_version_tag',\n",
       " 'typedef',\n",
       " 'typeof',\n",
       " 'uPy_hash_t',\n",
       " 'uchar',\n",
       " 'uint',\n",
       " 'ulong',\n",
       " 'ulonglong',\n",
       " 'unicode',\n",
       " 'union',\n",
       " 'unraisable_tracebacks',\n",
       " 'ushort',\n",
       " 'void',\n",
       " 'with_gil',\n",
       " 'wraparound']"
      ]
     },
     "execution_count": 25,
     "metadata": {},
     "output_type": "execute_result"
    }
   ],
   "source": [
    "dir(cython)"
   ]
  },
  {
   "cell_type": "code",
   "execution_count": 26,
   "metadata": {
    "scrolled": true,
    "tags": []
   },
   "outputs": [],
   "source": [
    "# Définisser une fonction pour traiter le texte\n",
    "stopwords = spacy.lang.en.stop_words.STOP_WORDS\n",
    "\n",
    "\n",
    "@cython.locals(text=str, doc=str, lemmas=str, a_lemmas=str)\n",
    "@cython.returns(str)\n",
    "@cython.cfunc\n",
    "def preprocess(text):\n",
    "    # créer 1 Doc object\n",
    "    doc = nlp(text)\n",
    "    \n",
    "    # Générer les lemmas\n",
    "    lemmas = [token.lemma_ for token in doc]\n",
    "    # Enlever les  stopwords and non-alphabetiques éléments\n",
    "    a_lemmas = [lemma for lemma in lemmas if lemma.isalpha() and lemma not in stopwords]\n",
    "    \n",
    "    return a_lemmas\n",
    "  "
   ]
  },
  {
   "cell_type": "code",
   "execution_count": 27,
   "metadata": {
    "scrolled": true,
    "tags": []
   },
   "outputs": [
    {
     "name": "stdout",
     "output_type": "stream",
     "text": [
      "2min 9s ± 1.77 s per loop (mean ± std. dev. of 7 runs, 1 loop each)\n"
     ]
    },
    {
     "data": {
      "text/plain": [
       "0      [talk, new, lecture, TED, I, illusion, create,...\n",
       "1      [representation, brain, brain, break, left, ha...\n",
       "2      [great, honor, today, share, Digital, Universe...\n",
       "3      [passion, music, technology, thing, combinatio...\n",
       "4      [use, want, computer, new, program, programmin...\n",
       "                             ...                        \n",
       "495    [today, I, unpack, example, iconic, design, pe...\n",
       "496    [brother, belong, demographic, Pat, percent, a...\n",
       "497    [John, Hockenberry, great, Tom, I, want, start...\n",
       "498    [right, moment, kill, More, car, internet, lit...\n",
       "499    [real, problem, math, education, right, basica...\n",
       "Name: transcript_preprocessed, Length: 500, dtype: object"
      ]
     },
     "execution_count": 27,
     "metadata": {},
     "output_type": "execute_result"
    }
   ],
   "source": [
    "# appliquer ce preprocess à ted['transcript']\n",
    "%timeit ted['transcript_preprocessed'] = ted['transcript'].apply(preprocess)\n",
    "ted['transcript_preprocessed']"
   ]
  },
  {
   "cell_type": "code",
   "execution_count": 24,
   "metadata": {
    "tags": []
   },
   "outputs": [
    {
     "data": {
      "text/html": [
       "<div>\n",
       "<style scoped>\n",
       "    .dataframe tbody tr th:only-of-type {\n",
       "        vertical-align: middle;\n",
       "    }\n",
       "\n",
       "    .dataframe tbody tr th {\n",
       "        vertical-align: top;\n",
       "    }\n",
       "\n",
       "    .dataframe thead th {\n",
       "        text-align: right;\n",
       "    }\n",
       "</style>\n",
       "<table border=\"1\" class=\"dataframe\">\n",
       "  <thead>\n",
       "    <tr style=\"text-align: right;\">\n",
       "      <th></th>\n",
       "      <th>transcript</th>\n",
       "      <th>url</th>\n",
       "      <th>count_words</th>\n",
       "      <th>transcript_preprocessed</th>\n",
       "    </tr>\n",
       "  </thead>\n",
       "  <tbody>\n",
       "    <tr>\n",
       "      <th>0</th>\n",
       "      <td>We're going to talk — my — a new lecture, just...</td>\n",
       "      <td>https://www.ted.com/talks/al_seckel_says_our_b...</td>\n",
       "      <td>1704</td>\n",
       "      <td>[talk, new, lecture, TED, I, illusion, create,...</td>\n",
       "    </tr>\n",
       "    <tr>\n",
       "      <th>1</th>\n",
       "      <td>This is a representation of your brain, and yo...</td>\n",
       "      <td>https://www.ted.com/talks/aaron_o_connell_maki...</td>\n",
       "      <td>1387</td>\n",
       "      <td>[representation, brain, brain, break, left, ha...</td>\n",
       "    </tr>\n",
       "    <tr>\n",
       "      <th>2</th>\n",
       "      <td>It's a great honor today to share with you The...</td>\n",
       "      <td>https://www.ted.com/talks/carter_emmart_demos_...</td>\n",
       "      <td>890</td>\n",
       "      <td>[great, honor, today, share, Digital, Universe...</td>\n",
       "    </tr>\n",
       "    <tr>\n",
       "      <th>3</th>\n",
       "      <td>My passions are music, technology and making t...</td>\n",
       "      <td>https://www.ted.com/talks/jared_ficklin_new_wa...</td>\n",
       "      <td>1548</td>\n",
       "      <td>[passion, music, technology, thing, combinatio...</td>\n",
       "    </tr>\n",
       "    <tr>\n",
       "      <th>4</th>\n",
       "      <td>It used to be that if you wanted to get a comp...</td>\n",
       "      <td>https://www.ted.com/talks/jeremy_howard_the_wo...</td>\n",
       "      <td>3480</td>\n",
       "      <td>[use, want, computer, new, program, programmin...</td>\n",
       "    </tr>\n",
       "  </tbody>\n",
       "</table>\n",
       "</div>"
      ],
      "text/plain": [
       "                                          transcript  \\\n",
       "0  We're going to talk — my — a new lecture, just...   \n",
       "1  This is a representation of your brain, and yo...   \n",
       "2  It's a great honor today to share with you The...   \n",
       "3  My passions are music, technology and making t...   \n",
       "4  It used to be that if you wanted to get a comp...   \n",
       "\n",
       "                                                 url  count_words  \\\n",
       "0  https://www.ted.com/talks/al_seckel_says_our_b...         1704   \n",
       "1  https://www.ted.com/talks/aaron_o_connell_maki...         1387   \n",
       "2  https://www.ted.com/talks/carter_emmart_demos_...          890   \n",
       "3  https://www.ted.com/talks/jared_ficklin_new_wa...         1548   \n",
       "4  https://www.ted.com/talks/jeremy_howard_the_wo...         3480   \n",
       "\n",
       "                             transcript_preprocessed  \n",
       "0  [talk, new, lecture, TED, I, illusion, create,...  \n",
       "1  [representation, brain, brain, break, left, ha...  \n",
       "2  [great, honor, today, share, Digital, Universe...  \n",
       "3  [passion, music, technology, thing, combinatio...  \n",
       "4  [use, want, computer, new, program, programmin...  "
      ]
     },
     "execution_count": 24,
     "metadata": {},
     "output_type": "execute_result"
    }
   ],
   "source": [
    "ted.head(5)"
   ]
  },
  {
   "cell_type": "code",
   "execution_count": 25,
   "metadata": {
    "tags": []
   },
   "outputs": [
    {
     "data": {
      "text/plain": [
       "'3.10.13 | packaged by Anaconda, Inc. | (main, Sep 11 2023, 13:24:38) [MSC v.1916 64 bit (AMD64)]'"
      ]
     },
     "execution_count": 25,
     "metadata": {},
     "output_type": "execute_result"
    }
   ],
   "source": [
    "import sys\n",
    "sys.version"
   ]
  },
  {
   "cell_type": "markdown",
   "metadata": {},
   "source": [
    "Comparer ted['transcript_preprocessed'] et ted['transcript']"
   ]
  },
  {
   "cell_type": "markdown",
   "metadata": {},
   "source": [
    "Voir vidéo 3 du chapitre 2"
   ]
  },
  {
   "cell_type": "markdown",
   "metadata": {},
   "source": [
    "Dans cet exercice, vous effectuerez un \"part-of-speech tagging\" d'une partie du discours sur un passage célèbre de l'un des romans les plus connus de tous les temps, Lord of the Flies, écrit par William Golding.\n",
    "\n",
    "Le passage est disponible dans lotf"
   ]
  },
  {
   "cell_type": "code",
   "execution_count": 29,
   "metadata": {
    "tags": []
   },
   "outputs": [],
   "source": [
    "lotf = 'He found himself understanding the wearisomeness of this life, where every path was an improvisation and a considerable part of one’s waking life was spent watching one’s feet.'"
   ]
  },
  {
   "cell_type": "code",
   "execution_count": 30,
   "metadata": {
    "tags": []
   },
   "outputs": [
    {
     "name": "stdout",
     "output_type": "stream",
     "text": [
      "[('He', 95), ('found', 100), ('himself', 95), ('understanding', 100), ('the', 90), ('wearisomeness', 92), ('of', 85), ('this', 90), ('life', 92), (',', 97), ('where', 98), ('every', 90), ('path', 92), ('was', 87), ('an', 90), ('improvisation', 92), ('and', 89), ('a', 90), ('considerable', 84), ('part', 92), ('of', 85), ('one', 93), ('’s', 94), ('waking', 100), ('life', 92), ('was', 87), ('spent', 100), ('watching', 100), ('one', 93), ('’s', 94), ('feet', 92), ('.', 97)]\n"
     ]
    }
   ],
   "source": [
    "# charger  en_core_web_sm model\n",
    "\n",
    "\n",
    "# créer un Doc object\n",
    "doc = nlp(lotf)\n",
    "\n",
    "# Générer tokens et pos tags\n",
    "pos = [(token.text, token.pos) for token in doc]\n",
    "print(pos)"
   ]
  },
  {
   "cell_type": "markdown",
   "metadata": {},
   "source": [
    "\n",
    "Dans cet exercice, nous écrirons deux fonctions, les nums () et les proper_nouns () qui compteront respectivement le nombre de noms et de noms propres dans un morceau de texte.\n",
    "\n",
    "Ces fonctions prendront un morceau de texte et généreront une liste contenant les balises POS pour chaque mot. Elles renverront alors le nombre de noms propres / autres noms que contient le texte. Nous utiliserons ces fonctions dans le prochain exercice pour générer des informations intéressantes sur les fake news.\n",
    "\n",
    "vous pouvez tester la fonction sur la phrase suivante"
   ]
  },
  {
   "cell_type": "code",
   "execution_count": 60,
   "metadata": {},
   "outputs": [],
   "source": [
    "test = \"Abdul, Bill and Cathy went to the market to buy apples.\""
   ]
  },
  {
   "cell_type": "code",
   "execution_count": 61,
   "metadata": {},
   "outputs": [
    {
     "name": "stdout",
     "output_type": "stream",
     "text": [
      "3\n"
     ]
    }
   ],
   "source": [
    "nlp = spacy.load('en_core_web_sm')\n",
    "\n",
    "# retourne le nombre de noms propres \n",
    "def proper_nouns(text, model=nlp):\n",
    "  \t# créer un doc object\n",
    "    doc = nlp(test)\n",
    "    # générer une liste de POS tags\n",
    "    \n",
    "    \n",
    "    # retourne le nombre de noms propres\n",
    "    return ____\n",
    "\n",
    "print(____)"
   ]
  },
  {
   "cell_type": "code",
   "execution_count": 62,
   "metadata": {},
   "outputs": [
    {
     "name": "stdout",
     "output_type": "stream",
     "text": [
      "2\n"
     ]
    }
   ],
   "source": [
    "# retourne le nombre de noms  \n",
    "def nouns(text, model=nlp):\n",
    "  \t# créer un doc object\n",
    "    ____\n",
    "    # générer une liste de POS tags\n",
    "    ____\n",
    "    \n",
    "    # retourne le nombre de noms\n",
    "    return ____\n",
    "\n",
    "print(____)"
   ]
  },
  {
   "cell_type": "markdown",
   "metadata": {},
   "source": [
    "Dans cet exercice, vous avez reçu dans un dataframe des titres d'actualité fausses ou réelles. Votre tâche consiste à générer deux nouvelles features num_propn et num_noun qui représentent le nombre de noms propres et d'autres noms contenus dans la colonne titre.\n",
    "\n",
    "Ensuite, nous calculerons le nombre moyen de noms propres et des noms utilisés dans les faux et vrais titres des actualités et comparerons les valeurs. S'il y a une différence notoire, il y a de fortes chances que l'utilisation des features num_propn et num_noun dans des détecteurs de fake news améliorerait leur performances.\n",
    "\n",
    "Pour accomplir cette tâche, vous utiliserez les fonctions proper_nouns et nouns que vous aviez construits dans l'exercice précédent.\n"
   ]
  },
  {
   "cell_type": "code",
   "execution_count": 25,
   "metadata": {},
   "outputs": [
    {
     "data": {
      "text/html": [
       "<div>\n",
       "<style scoped>\n",
       "    .dataframe tbody tr th:only-of-type {\n",
       "        vertical-align: middle;\n",
       "    }\n",
       "\n",
       "    .dataframe tbody tr th {\n",
       "        vertical-align: top;\n",
       "    }\n",
       "\n",
       "    .dataframe thead th {\n",
       "        text-align: right;\n",
       "    }\n",
       "</style>\n",
       "<table border=\"1\" class=\"dataframe\">\n",
       "  <thead>\n",
       "    <tr style=\"text-align: right;\">\n",
       "      <th></th>\n",
       "      <th>Unnamed: 0</th>\n",
       "      <th>title</th>\n",
       "      <th>label</th>\n",
       "    </tr>\n",
       "  </thead>\n",
       "  <tbody>\n",
       "    <tr>\n",
       "      <th>0</th>\n",
       "      <td>0</td>\n",
       "      <td>You Can Smell Hillary’s Fear</td>\n",
       "      <td>FAKE</td>\n",
       "    </tr>\n",
       "    <tr>\n",
       "      <th>1</th>\n",
       "      <td>1</td>\n",
       "      <td>Watch The Exact Moment Paul Ryan Committed Pol...</td>\n",
       "      <td>FAKE</td>\n",
       "    </tr>\n",
       "    <tr>\n",
       "      <th>2</th>\n",
       "      <td>2</td>\n",
       "      <td>Kerry to go to Paris in gesture of sympathy</td>\n",
       "      <td>REAL</td>\n",
       "    </tr>\n",
       "    <tr>\n",
       "      <th>3</th>\n",
       "      <td>3</td>\n",
       "      <td>Bernie supporters on Twitter erupt in anger ag...</td>\n",
       "      <td>FAKE</td>\n",
       "    </tr>\n",
       "    <tr>\n",
       "      <th>4</th>\n",
       "      <td>4</td>\n",
       "      <td>The Battle of New York: Why This Primary Matters</td>\n",
       "      <td>REAL</td>\n",
       "    </tr>\n",
       "  </tbody>\n",
       "</table>\n",
       "</div>"
      ],
      "text/plain": [
       "   Unnamed: 0                                              title label\n",
       "0           0                       You Can Smell Hillary’s Fear  FAKE\n",
       "1           1  Watch The Exact Moment Paul Ryan Committed Pol...  FAKE\n",
       "2           2        Kerry to go to Paris in gesture of sympathy  REAL\n",
       "3           3  Bernie supporters on Twitter erupt in anger ag...  FAKE\n",
       "4           4   The Battle of New York: Why This Primary Matters  REAL"
      ]
     },
     "execution_count": 25,
     "metadata": {},
     "output_type": "execute_result"
    }
   ],
   "source": [
    "#on charge les données\n",
    "\n",
    "headlines = pd.read_csv( \"fakenews.csv\", sep =',').dropna(axis=1)\n",
    "\n",
    "headlines.head()"
   ]
  },
  {
   "cell_type": "code",
   "execution_count": 26,
   "metadata": {},
   "outputs": [
    {
     "name": "stdout",
     "output_type": "stream",
     "text": [
      "Mean no. of proper nouns in real and fake headlines are 2.42 and 4.58 respectively\n"
     ]
    }
   ],
   "source": [
    "#appliquer la fonction proper_nouns à la colonne title et stocker le resultat dans une nouvelle colonne headlines['num_propn']\n",
    "____\n",
    "\n",
    "# Calculer les moyennes de noms propres dans les fake et real news\n",
    "____\n",
    "\n",
    "# Afficher le resultat \n",
    "print(____)"
   ]
  },
  {
   "cell_type": "code",
   "execution_count": 27,
   "metadata": {},
   "outputs": [
    {
     "name": "stdout",
     "output_type": "stream",
     "text": [
      "Mean no. of other nouns in real and fake headlines are 2.30 and 1.67 respectively\n"
     ]
    }
   ],
   "source": [
    "#appliquer la fonction proper_nouns à la colonne title et stocker le resultat dans une nouvelle colonne headlines['num_noun']\n",
    "____\n",
    "\n",
    "# Calculer les moyennes de noms propres dans les fake et real news\n",
    "____\n",
    "\n",
    "# Afficher le resultat \n",
    "____"
   ]
  },
  {
   "cell_type": "markdown",
   "metadata": {},
   "source": [
    "Voir Vidéo 4 chapitre 2"
   ]
  },
  {
   "cell_type": "markdown",
   "metadata": {},
   "source": [
    "\n",
    "Dans cet exercice, nous identifierons et classerons les étiquettes de diverses entités nommées dans un corps de texte en utilisant l'un des modèles statistiques de spaCy. Nous vérifierons également la véracité de ces étiquettes."
   ]
  },
  {
   "cell_type": "code",
   "execution_count": 28,
   "metadata": {},
   "outputs": [
    {
     "name": "stdout",
     "output_type": "stream",
     "text": [
      "Sundar Pichai PERSON\n",
      "Google ORG\n",
      "Mountain View GPE\n"
     ]
    }
   ],
   "source": [
    "text = 'Sundar Pichai is the CEO of Google. Its headquarters is in Mountain View.'\n",
    "\n",
    "# Charger le modèle 'en_core_web_sm'\n",
    "____\n",
    "\n",
    "# Créer un doc objet contenant texte \n",
    "____\n",
    "\n",
    "# à l'aide d'une boucle afficher toutes les entités\n",
    "____"
   ]
  },
  {
   "cell_type": "markdown",
   "metadata": {},
   "source": [
    "\n",
    "Dans cet exercice, vous avez reçu un extrait d'un article de presse publié dans TechCrunch. Votre tâche est d'écrire une fonction find_people qui identifie les noms des personnes qui ont été mentionnées dans un morceau de texte particulier. Vous utiliserez ensuite find_people pour identifier les personnes qui vous intéressent dans l'article.\n",
    "\n",
    "L'article est disponible dans tc "
   ]
  },
  {
   "cell_type": "code",
   "execution_count": 29,
   "metadata": {},
   "outputs": [],
   "source": [
    "#voici l'article\n",
    "tc = \"\\nIt’s' been a busy day for Facebook  exec op-eds. Earlier this morning, Sheryl Sandberg broke the site’s silence around the Christchurch massacre, and now Mark Zuckerberg is calling on governments and other bodies to increase regulation around the sorts of data Facebook traffics in. He’s hoping to get out in front of heavy-handed regulation and get a seat at the table shaping it.\\n\""
   ]
  },
  {
   "cell_type": "code",
   "execution_count": 30,
   "metadata": {},
   "outputs": [
    {
     "name": "stdout",
     "output_type": "stream",
     "text": [
      "['Sheryl Sandberg', 'Mark Zuckerberg']\n"
     ]
    }
   ],
   "source": [
    "#définir la fonction find_persons\n",
    "\n",
    "def find_persons(text):\n",
    "  # Créer un doc objet\n",
    "  ____\n",
    "  \n",
    "  # identifier les personnes\n",
    "  ____\n",
    "  \n",
    "  # renvoyer les personnes identifiées\n",
    "  return ____\n",
    "\n",
    "#appliquer la fonction à l'article tc\n",
    "print(____)"
   ]
  },
  {
   "cell_type": "markdown",
   "metadata": {},
   "source": [
    "Chapitre 3 - N-Gram models"
   ]
  },
  {
   "cell_type": "markdown",
   "metadata": {},
   "source": [
    "Voir la vidéo 1 du chapitre 3"
   ]
  },
  {
   "cell_type": "markdown",
   "metadata": {},
   "source": [
    "\n",
    "On vous a donné un corpus de documents et vous avez calculé le vocabulaire du corpus comme suit: \n",
    "V: a, un, et, mais, peut, venir, soir, pour toujours, aller, moi, hommes, peut, sur, les femmes\n",
    "\n",
    "Lequel des énoncés suivants correspond au vecteur sac de mots (BOW) pour le texte «les hommes peuvent venir et les hommes peuvent partir mais je continue pour toujours»?"
   ]
  },
  {
   "cell_type": "markdown",
   "metadata": {},
   "source": [
    "\n",
    "1 : (0, 0, 1, 1, 0, 1, 0, 1, 2, 1, 2, 2, 1, 0, 0)\n",
    "\n",
    "\n",
    "2 : (0, 1, 0, 1, 1, 1, 2, 0, 2, 1, 0, 0, 0, 2, 0)\n",
    "\n",
    "\n",
    "3 : (2, 1, 0, 0, 2, 1, 0, 0, 0, 1)\n",
    "\n",
    "\n",
    "4 : (0, 0, 1, 2, 1, 2, 1, 1, 1, 0, 0, 1, 1, 1, 1)\n"
   ]
  },
  {
   "cell_type": "markdown",
   "metadata": {},
   "source": [
    "\n",
    "Dans cet exercice, vous avez reçu un corpus de plus de 7 000 slogans de films. Votre travail consiste à générer le sac de mots bow_matrix pour ces slogans. Pour cet exercice, nous ignorerons l'étape de prétraitement du texte et générerons directement bow_matrix.\n",
    "\n",
    "Nous étudierons également la forme de la bow_matrix résultante. "
   ]
  },
  {
   "cell_type": "code",
   "execution_count": 31,
   "metadata": {},
   "outputs": [
    {
     "data": {
      "text/plain": [
       "1            Roll the dice and unleash the excitement!\n",
       "2    Still Yelling. Still Fighting. Still Ready for...\n",
       "3    Friends are the people who let you be yourself...\n",
       "4    Just When His World Is Back To Normal... He's ...\n",
       "5                             A Los Angeles Crime Saga\n",
       "Name: tagline, dtype: object"
      ]
     },
     "execution_count": 31,
     "metadata": {},
     "output_type": "execute_result"
    }
   ],
   "source": [
    "#on charge les slogans\n",
    "\n",
    "movies = pd.read_csv( \"movie_overviews.csv\", sep =',')\n",
    "\n",
    "corpus = movies[\"tagline\"].dropna()\n",
    "\n",
    "corpus.head()"
   ]
  },
  {
   "cell_type": "code",
   "execution_count": 32,
   "metadata": {},
   "outputs": [
    {
     "name": "stdout",
     "output_type": "stream",
     "text": [
      "(7033, 6614)\n"
     ]
    }
   ],
   "source": [
    "# Importer CountVectorizer\n",
    "____\n",
    "\n",
    "# Creer 1 CountVectorizer object\n",
    "____\n",
    "\n",
    "# Generer \"matrix of word vectors\" sur lem_corpus\n",
    "____\n",
    "\n",
    "# afficher la taille de bow_matrix\n",
    "print(____)"
   ]
  },
  {
   "cell_type": "markdown",
   "metadata": {},
   "source": [
    "La taille de la matrice est grande. Le corpus n'a pas été preprocessé. Il contient des majuscules, des stopwords et des vides.\n",
    "Vous allez maintenant prépocesser le corpus avec la fonction preprocess vu plus haut et calculer à nouveau la \"bow_matrix\". \n"
   ]
  },
  {
   "cell_type": "markdown",
   "metadata": {},
   "source": [
    "créer lem_corpus contenant les versions prétraitées des slogans des films de l'exercice précédent. \n",
    "\n",
    "utiliser preprocess\n",
    ". "
   ]
  },
  {
   "cell_type": "code",
   "execution_count": 33,
   "metadata": {},
   "outputs": [
    {
     "data": {
      "text/plain": [
       "1    roll dice unleash excitement\n",
       "2           yell fight ready Love\n",
       "3    friend people let let forget\n",
       "4      world normal Surprise life\n",
       "5          Los Angeles Crime Saga\n",
       "Name: tagline, dtype: object"
      ]
     },
     "execution_count": 33,
     "metadata": {},
     "output_type": "execute_result"
    }
   ],
   "source": [
    "#Appliquer votre fonction preprocess vu plus haut pour tout mettre en minuscule, lemmatisés et supprimer les mots vides stopwords.\n",
    "\n",
    "lem_corpus = ____\n",
    "\n",
    "lem_corpus.head()"
   ]
  },
  {
   "cell_type": "markdown",
   "metadata": {},
   "source": [
    "Votre travail est maintenat de générer le sac de représentation de mots bow_lem_matrix pour ces slogans lemmatisés et de comparer sa forme avec celle de bow_matrix obtenue dans l'exercice précédent"
   ]
  },
  {
   "cell_type": "code",
   "execution_count": 63,
   "metadata": {},
   "outputs": [
    {
     "name": "stdout",
     "output_type": "stream",
     "text": [
      "(7033, 5219)\n"
     ]
    }
   ],
   "source": [
    "# Importer CountVectorizer\n",
    "____\n",
    "\n",
    "# Creer 1 CountVectorizer object\n",
    "____\n",
    "\n",
    "# Generer \"matrix of word vectors\" sur lem_corpus\n",
    "____\n",
    "\n",
    "# afficher la taille de bow_matrix\n",
    "print(____.shape)"
   ]
  },
  {
   "cell_type": "markdown",
   "metadata": {},
   "source": [
    "Que peut-on remarquer?"
   ]
  },
  {
   "cell_type": "markdown",
   "metadata": {},
   "source": [
    "\n",
    "Dans la vidéo de la leçon, vous avez vu que CountVectorizer n'indexait pas nécessairement le vocabulaire par ordre alphabétique. Dans cet exercice, nous allons apprendre à mapper chaque nom de colonne avec le mot du vocabulaire correspondant pour créer une bow_matrix de type dataframe.\n",
    "\n",
    "Nous utiliserons les trois phrases sur les lions de la vidéo."
   ]
  },
  {
   "cell_type": "code",
   "execution_count": 35,
   "metadata": {},
   "outputs": [],
   "source": [
    "corpus = ['The lion is the king of the jungle',\n",
    " 'Lions have lifespans of a decade',\n",
    " 'The lion is an endangered species']"
   ]
  },
  {
   "cell_type": "code",
   "execution_count": 36,
   "metadata": {},
   "outputs": [
    {
     "name": "stdout",
     "output_type": "stream",
     "text": [
      "   an  decade  endangered  have  is  jungle  king  lifespans  lion  lions  of  \\\n",
      "0   0       0           0     0   1       1     1          0     1      0   1   \n",
      "1   0       1           0     1   0       0     0          1     0      1   1   \n",
      "2   1       0           1     0   1       0     0          0     1      0   0   \n",
      "\n",
      "   species  the  \n",
      "0        0    3  \n",
      "1        0    0  \n",
      "2        1    1  \n"
     ]
    }
   ],
   "source": [
    "#Instancier un objet CountVectorizer. Nommez-le vectorizer.\n",
    "\n",
    "____\n",
    "\n",
    "#En utilisant fit_transform (), générer bow_matrix pour le corpus.\n",
    "____\n",
    "\n",
    "#En utilisant la méthode get_feature_names (), mapper les noms des colonnes avec le mot correspondant dans le vocabulaire.\n",
    "____\n",
    "\n",
    "# afficher bow_df\n",
    "____\n"
   ]
  },
  {
   "cell_type": "markdown",
   "metadata": {},
   "source": [
    "Voir la vidéo 2 du chapitre 3"
   ]
  },
  {
   "cell_type": "raw",
   "metadata": {},
   "source": [
    "Dans cet exercice, vous allez manipuler deux séries pandas, X_train et X_test, qui consistent en des critiques de films.  Votre tâche consiste à prétraiter les revues et à générer des vecteurs BoW pour ces deux ensembles à l'aide de CountVectorizer.\n",
    "\n",
    "Une fois que nous aurons généré les matrices vectorielles BoW X_train_bow et X_test_bow, nous serons en très bonne position pour lui appliquer un modèle d'apprentissage automatique et effectuer une analyse des sentiments."
   ]
  },
  {
   "cell_type": "code",
   "execution_count": 38,
   "metadata": {},
   "outputs": [],
   "source": [
    "#Construction de la base de modélisation pour l'analyse des sentiments des revues de film\n",
    "\n",
    "reviews = pd.read_csv( \"movie_reviews_clean.csv\", sep =',')\n",
    "\n",
    "X =reviews['review']\n",
    "\n",
    "y = reviews['sentiment']\n",
    "\n",
    "from sklearn.model_selection import train_test_split\n",
    "\n",
    "X_train, X_test,y_train, y_test = train_test_split(X,y, test_size=0.33, random_state=42)\n",
    "\n"
   ]
  },
  {
   "cell_type": "code",
   "execution_count": 39,
   "metadata": {},
   "outputs": [
    {
     "name": "stdout",
     "output_type": "stream",
     "text": [
      "(670, 14403)\n",
      "(330, 14403)\n"
     ]
    }
   ],
   "source": [
    "#Importer CountVectorizer depuis la bibliothèque sklearn.\n",
    "____\n",
    "\n",
    "#Instancier un objet CountVectorizer nommé vectorizer. Assurez-vous que tous les mots sont convertis en minuscules et que les mots vides anglais sont supprimés.\n",
    "____\n",
    "\n",
    "#En utilisant X_train, ajuster vectorizer puis utiliser-le pour transformer X_train afin de générer l'ensemble des vecteurs BoW X_train_bow.\n",
    "____\n",
    "\n",
    "#transformez X_test en utilisant vectorizer pour générer l'ensemble des vecteurs BoW X_test_bow.\n",
    "____\n",
    "\n",
    "# Printer les tailles de X_train_bow et de X_test_bow\n",
    "print(____)\n",
    "print(____)\n"
   ]
  },
  {
   "cell_type": "markdown",
   "metadata": {},
   "source": [
    "Dans l'exercice précédent, vous avez généré les représentations de sac de mots pour les données de revues de film d'entraînement et de test. Dans cet exercice, nous utiliserons ces données pour entrainer un classificateur Naive Bayes capable de détecter le sentiment d'une critique de film et de calculer sa précision. Notez que puisqu'il s'agit d'un problème de classification binaire, le modèle ne peut classer un avis que comme positif (1) ou négatif (0). Il est incapable de détecter les avis neutres.\n",
    "\n",
    "Comme vu plus haut, les vecteurs BoW d'entraînement et de test sont respectivement disponibles sous la forme X_train_bow et X_test_bow. Les libellés correspondants sont disponibles respectivement dans y_train et y_test. En outre, pour votre référence, le jeu de données de revue de film original est disponible dans le df reviews."
   ]
  },
  {
   "cell_type": "code",
   "execution_count": 40,
   "metadata": {},
   "outputs": [
    {
     "name": "stdout",
     "output_type": "stream",
     "text": [
      "The accuracy of the classifier on the test set is 0.779\n",
      "The sentiment predicted by the classifier is 0\n"
     ]
    }
   ],
   "source": [
    "#importer MultinomialNB depuis sklearn.naive_bayes\n",
    "\n",
    "from sklearn.naive_bayes import MultinomialNB\n",
    "\n",
    "#instancier un objet de MultinomialNB. Nommez-le clf.\n",
    "____\n",
    "\n",
    "\n",
    "#Ajuster clf en utilisant X_train_bow et y_train.\n",
    "____\n",
    "\n",
    "#Mesurer la précision de clf en utilisant X_test_bow et y_test.\n",
    "accuracy = ____\n",
    "print(\"The accuracy of the classifier on the test set is %.3f\" % accuracy)\n",
    "\n",
    "# Predire le sentiment d'une revue négative\n",
    "review = \"The movie was terrible. The music was underwhelming and the acting mediocre.\"\n",
    "prediction = ____\n",
    "print(\"The sentiment predicted by the classifier is %i\" % (prediction))"
   ]
  },
  {
   "cell_type": "markdown",
   "metadata": {},
   "source": [
    "Voir la vidéo 2 du chapitre 3"
   ]
  },
  {
   "cell_type": "markdown",
   "metadata": {},
   "source": [
    "Dans cet exercice, nous allons manipuler plus de 9 000 slogans de films. Notre travail consiste à générer des modèles de n grammes n égal à 1, n égal à 2 et n égal à 3 pour ces données et découvrir le nombre de caractéristiques pour chaque modèle.\n",
    "\n",
    "Nous comparerons ensuite le nombre de \"features\" générées pour chaque modèle."
   ]
  },
  {
   "cell_type": "code",
   "execution_count": 41,
   "metadata": {},
   "outputs": [
    {
     "data": {
      "text/plain": [
       "1    roll dice unleash excitement\n",
       "2           yell fight ready Love\n",
       "3    friend people let let forget\n",
       "4      world normal Surprise life\n",
       "5          Los Angeles Crime Saga\n",
       "Name: tagline, dtype: object"
      ]
     },
     "execution_count": 41,
     "metadata": {},
     "output_type": "execute_result"
    }
   ],
   "source": [
    "#Les slogans sont dans lem_corpus\n",
    "\n",
    "lem_corpus.head()"
   ]
  },
  {
   "cell_type": "code",
   "execution_count": 42,
   "metadata": {},
   "outputs": [
    {
     "name": "stdout",
     "output_type": "stream",
     "text": [
      "ng1, ng2 and ng3 have 13, 27 and 39 features respectively\n"
     ]
    }
   ],
   "source": [
    "#Générer un modèle de n-grammes avec n = 1. Nommez-le ng1\n",
    "____\n",
    "\n",
    "#Générer un modèle n-gramme avec n = 1 et 2. Nommez-le ng2\n",
    "____\n",
    "\n",
    "#Générer un modèle n-gramme avec n = 1,2 et 3. Nommez-le ng3\n",
    "____\n",
    "\n",
    "#printer le nombre de \"features\" pour chaque modèle.\n",
    "print(\"ng1, ng2 and ng3 have %i, %i and %i features respectively\" % (ng1.shape[1], ng2.shape[1], ng3.shape[1]))\n",
    "\n"
   ]
  },
  {
   "cell_type": "markdown",
   "metadata": {},
   "source": [
    "A l'image de l'exercice précédent, nous allons créer un classificateur qui peut détecter si la critique d'un film particulier est positive ou négative. Cependant, cette fois, nous utiliserons un n-grammes avec  n = 1 et 2 .\n",
    "\n",
    "Les revues de formation n-gram sont disponibles sous X_train_ng. Les revues de test correspondantes sont disponibles sous X_test_ng. Enfin, utilisez y_train et y_test pour accéder libellé, c'est à dire les sentiments."
   ]
  },
  {
   "cell_type": "code",
   "execution_count": 43,
   "metadata": {},
   "outputs": [
    {
     "name": "stdout",
     "output_type": "stream",
     "text": [
      "(670, 79542)\n",
      "(330, 79542)\n"
     ]
    }
   ],
   "source": [
    "\n",
    "#Instancier un objet CountVectorizer nommé vectorizer. Assurez-vous que tous les mots sont convertis en minuscules et que les mots vides anglais sont supprimés.\n",
    "____\n",
    "\n",
    "#En utilisant X_train, ajustez vectorizer puis utilisez-le pour transformer X_train afin de générer l'ensemble des vecteurs BoW X_train_bow.\n",
    "X_train_bow_ng = ____\n",
    "\n",
    "#transformer X_test en utilisant vectorizer pour générer l'ensemble des vecteurs BoW X_test_bow.\n",
    "X_test_bow_ng = ____\n",
    "\n",
    "# Printer les tailles de X_train_bow et de X_test_bow\n",
    "print(X_train_bow_ng.shape)\n",
    "print(X_test_bow_ng.shape)"
   ]
  },
  {
   "cell_type": "markdown",
   "metadata": {},
   "source": [
    "Dans l'exercice précédent, vous avez généré les représentations de sac de mots pour les données de revue de film d'entraînement et de test. Dans cet exercice, nous utiliserons ce données pour entrainer un classificateur Naive Bayes capable de détecter le sentiment d'une critique de film et de calculer sa précision. Notez que puisqu'il s'agit d'un problème de classification binaire, le modèle n'est capable de classer un avis que comme positif (1) ou négatif (0). Il est incapable de détecter les avis neutres.\n",
    "\n",
    "Dans le cas où vous ne vous en souvenez pas, les vecteurs d'entraînement et de test BoW sont respectivement disponibles sous la forme X_train_bow et X_test_bow. Les libellés correspondants sont disponibles respectivement comme y_train et y_test. En outre, pour votre référence, le jeu de données de revue de film original est disponible en tant que df."
   ]
  },
  {
   "cell_type": "code",
   "execution_count": 44,
   "metadata": {},
   "outputs": [
    {
     "name": "stdout",
     "output_type": "stream",
     "text": [
      "The accuracy of the classifier on the test set is 0.776\n",
      "The sentiment predicted by the classifier is 0\n"
     ]
    }
   ],
   "source": [
    "# Definir une instance  MultinomialNB \n",
    "clf_ng = MultinomialNB()\n",
    "\n",
    "# entrainer le modèle\n",
    "____\n",
    "\n",
    "# Mesurer la performance\n",
    "accuracy = ____\n",
    "print(\"The accuracy of the classifier on the test set is %.3f\" % ____)\n",
    "\n",
    "# Predict the sentiment of a negative review\n",
    "review = \"The movie was not good. The plot had several holes and the acting lacked panache.\"\n",
    "prediction = ____\n",
    "print(\"The sentiment predicted by the classifier is %i\" % (prediction))"
   ]
  },
  {
   "cell_type": "markdown",
   "metadata": {},
   "source": [
    "Vous savez maintenant comment effectuer une analyse des sentiments en convertissant du texte en différentes représentations n-gram et en les alimentant dans un classificateur. Dans cet exercice, nous effectuerons une analyse des sentiments pour les mêmes critiques de films avant d'utiliser deux modèles de n grammes: unigramme et n-gramme jusqu'à n égal à 3.\n",
    "\n",
    "Nous comparerons ensuite les performances à l'aide de trois critères: la précision du modèle sur l'ensemble de test, le temps nécessaire à l'exécution du programme et le nombre de caractéristiques créées lors de la génération de la représentation n-gramme."
   ]
  },
  {
   "cell_type": "code",
   "execution_count": 45,
   "metadata": {},
   "outputs": [
    {
     "name": "stdout",
     "output_type": "stream",
     "text": [
      "The program took 0.238 seconds to complete. The accuracy on the test set is 0.75. The ngram representation had 12347 features.\n"
     ]
    }
   ],
   "source": [
    "\n",
    "#modéliser avec un modèle unigrammes \n",
    "\n",
    "import time \n",
    "\n",
    "start_time = time.time()\n",
    "\n",
    "# Splitting the data into training and test sets\n",
    "train_X, test_X, train_y, test_y = train_test_split(reviews['review'], reviews['sentiment'], test_size=0.5, random_state=42, stratify=reviews['sentiment'])\n",
    "\n",
    "# Generer le ngrams\n",
    "vectorizer = CountVectorizer(ngram_range=(1,1))\n",
    "\n",
    "#transformer train_X et text_X\n",
    "train_X = vectorizer.fit_transform(____)\n",
    "test_X = vectorizer.transform(____)\n",
    "\n",
    "# Entrainer le modèle\n",
    "clf = MultinomialNB()\n",
    "____\n",
    "\n",
    "# Predire le sentiment d'une revue négative\n",
    "print(\"The program took %.3f seconds to complete. The accuracy on the test set is %.2f. The ngram representation had %i features.\" % (time.time() - start_time, clf.score(test_X, test_y), train_X.shape[1]))"
   ]
  },
  {
   "cell_type": "markdown",
   "metadata": {},
   "source": [
    "Ré-utiliser le code ci-dessus en utilisant des ngram allant jusqu'à 3. Que peut ont dire des performances du modèle?"
   ]
  },
  {
   "cell_type": "code",
   "execution_count": 64,
   "metadata": {},
   "outputs": [
    {
     "name": "stdout",
     "output_type": "stream",
     "text": [
      "The program took 1.226 seconds to complete. The accuracy on the test set is 0.77. The ngram representation had 178240 features.\n"
     ]
    }
   ],
   "source": [
    "#modéliser avec n-gramme avec n allant jusqu'à  3\n",
    "\n",
    "import time \n",
    "\n",
    "start_time = time.time()\n",
    "\n",
    "# Splitting the data into training and test sets\n",
    "train_X, test_X, train_y, test_y = train_test_split(reviews['review'], reviews['sentiment'], test_size=0.5, random_state=42, stratify=reviews['sentiment'])\n",
    "\n",
    "# Generer le ngrams\n",
    "____\n",
    "\n",
    "#transformer train_X et text_X\n",
    "\n",
    "____\n",
    "\n",
    "\n",
    "# Entrainer le modèle\n",
    "____\n",
    "\n",
    "# Predire le sentiment d'une revue négative\n",
    "print(\"The program took %.3f seconds to complete. The accuracy on the test set is %.2f. The ngram representation had %i features.\" % (time.time() - start_time, clf.score(test_X, test_y), train_X.shape[1]))"
   ]
  },
  {
   "cell_type": "markdown",
   "metadata": {},
   "source": [
    "# Chapitre 4 -TF-IDF and similarity scores"
   ]
  },
  {
   "cell_type": "markdown",
   "metadata": {},
   "source": [
    "Voir la vidéo 1 du chapitre 4"
   ]
  },
  {
   "cell_type": "markdown",
   "metadata": {},
   "source": [
    "\n",
    "Dans cet exercice, on va utiliser ted qui contient les transcriptions de 500 conférences TED. Votre tâche est de générer les vecteurs tf-idf pour ces discussions.\n"
   ]
  },
  {
   "cell_type": "code",
   "execution_count": 47,
   "metadata": {},
   "outputs": [
    {
     "data": {
      "text/html": [
       "<div>\n",
       "<style scoped>\n",
       "    .dataframe tbody tr th:only-of-type {\n",
       "        vertical-align: middle;\n",
       "    }\n",
       "\n",
       "    .dataframe tbody tr th {\n",
       "        vertical-align: top;\n",
       "    }\n",
       "\n",
       "    .dataframe thead th {\n",
       "        text-align: right;\n",
       "    }\n",
       "</style>\n",
       "<table border=\"1\" class=\"dataframe\">\n",
       "  <thead>\n",
       "    <tr style=\"text-align: right;\">\n",
       "      <th></th>\n",
       "      <th>transcript</th>\n",
       "      <th>url</th>\n",
       "      <th>word_count</th>\n",
       "      <th>transcript_preprocessed</th>\n",
       "    </tr>\n",
       "  </thead>\n",
       "  <tbody>\n",
       "    <tr>\n",
       "      <th>0</th>\n",
       "      <td>We're going to talk — my — a new lecture, just...</td>\n",
       "      <td>https://www.ted.com/talks/al_seckel_says_our_b...</td>\n",
       "      <td>1704</td>\n",
       "      <td>talk new lecture TED illusion create TED try r...</td>\n",
       "    </tr>\n",
       "    <tr>\n",
       "      <th>1</th>\n",
       "      <td>This is a representation of your brain, and yo...</td>\n",
       "      <td>https://www.ted.com/talks/aaron_o_connell_maki...</td>\n",
       "      <td>1387</td>\n",
       "      <td>representation brain brain break left half log...</td>\n",
       "    </tr>\n",
       "    <tr>\n",
       "      <th>2</th>\n",
       "      <td>It's a great honor today to share with you The...</td>\n",
       "      <td>https://www.ted.com/talks/carter_emmart_demos_...</td>\n",
       "      <td>890</td>\n",
       "      <td>great honor today share Digital Universe creat...</td>\n",
       "    </tr>\n",
       "    <tr>\n",
       "      <th>3</th>\n",
       "      <td>My passions are music, technology and making t...</td>\n",
       "      <td>https://www.ted.com/talks/jared_ficklin_new_wa...</td>\n",
       "      <td>1548</td>\n",
       "      <td>passion music technology thing combination thi...</td>\n",
       "    </tr>\n",
       "    <tr>\n",
       "      <th>4</th>\n",
       "      <td>It used to be that if you wanted to get a comp...</td>\n",
       "      <td>https://www.ted.com/talks/jeremy_howard_the_wo...</td>\n",
       "      <td>3480</td>\n",
       "      <td>use want computer new program programming requ...</td>\n",
       "    </tr>\n",
       "  </tbody>\n",
       "</table>\n",
       "</div>"
      ],
      "text/plain": [
       "                                          transcript  \\\n",
       "0  We're going to talk — my — a new lecture, just...   \n",
       "1  This is a representation of your brain, and yo...   \n",
       "2  It's a great honor today to share with you The...   \n",
       "3  My passions are music, technology and making t...   \n",
       "4  It used to be that if you wanted to get a comp...   \n",
       "\n",
       "                                                 url  word_count  \\\n",
       "0  https://www.ted.com/talks/al_seckel_says_our_b...        1704   \n",
       "1  https://www.ted.com/talks/aaron_o_connell_maki...        1387   \n",
       "2  https://www.ted.com/talks/carter_emmart_demos_...         890   \n",
       "3  https://www.ted.com/talks/jared_ficklin_new_wa...        1548   \n",
       "4  https://www.ted.com/talks/jeremy_howard_the_wo...        3480   \n",
       "\n",
       "                             transcript_preprocessed  \n",
       "0  talk new lecture TED illusion create TED try r...  \n",
       "1  representation brain brain break left half log...  \n",
       "2  great honor today share Digital Universe creat...  \n",
       "3  passion music technology thing combination thi...  \n",
       "4  use want computer new program programming requ...  "
      ]
     },
     "execution_count": 47,
     "metadata": {},
     "output_type": "execute_result"
    }
   ],
   "source": [
    "ted.head()\n"
   ]
  },
  {
   "cell_type": "code",
   "execution_count": 48,
   "metadata": {},
   "outputs": [
    {
     "name": "stdout",
     "output_type": "stream",
     "text": [
      "(500, 29158)\n"
     ]
    }
   ],
   "source": [
    "#Importer TfidfVectorizer depuis sklearn.\n",
    "____\n",
    "\n",
    "\n",
    "#Créer un objet TfidfVectorizer. Nommez-le vectorizer.\n",
    "____\n",
    "\n",
    "\n",
    "#Générer tfidf_matrix pour ted en utilisant la méthode fit_transform ()\n",
    "tfidf_matrix = ____\n",
    "\n",
    "\n",
    "# afficher la taille de tfidf_matrix\n",
    "print(tfidf_matrix.shape)"
   ]
  },
  {
   "cell_type": "markdown",
   "metadata": {},
   "source": [
    "\n",
    "Dans cet exercice, nous allons apprendre à calculer le produit scalaire entre deux vecteurs, A = (1, 3) et B = (-2, 2), à l'aide de la bibliothèque numpy. Plus précisément, nous utiliserons la fonction np.dot () pour calculer le produit scalaire de deux tableaux numpy."
   ]
  },
  {
   "cell_type": "code",
   "execution_count": 49,
   "metadata": {},
   "outputs": [
    {
     "name": "stdout",
     "output_type": "stream",
     "text": [
      "4\n"
     ]
    }
   ],
   "source": [
    "import numpy as np\n",
    "\n",
    "#Initialiser A (1,3) et B (-2,2) en tant que tableaux numpy en utilisant np.array ()\n",
    "\n",
    "\n",
    "#Calculer le produit scalaire en utilisant np.dot () et en passant A et B comme arguments.\n",
    "dot_prod = ____\n",
    "\n",
    "\n",
    "# Print dot_prod\n",
    "print(dot_prod)"
   ]
  },
  {
   "cell_type": "markdown",
   "metadata": {},
   "source": [
    "Dans cet exercice, vous allez travailler sur la liste ci-dessous. Vous devez calculer la matrice de similarité cosinus qui contient le score de similarité cosinus par paire pour chaque paire de phrases (vectorisée à l'aide de tf-idf)."
   ]
  },
  {
   "cell_type": "code",
   "execution_count": null,
   "metadata": {},
   "outputs": [],
   "source": [
    "liste =['The lion is the king of the jungle',\n",
    " 'Lions have lifespans of a decade',\n",
    " 'The lion is an endangered species']"
   ]
  },
  {
   "cell_type": "code",
   "execution_count": 50,
   "metadata": {},
   "outputs": [
    {
     "name": "stdout",
     "output_type": "stream",
     "text": [
      "[[1.         0.09040303 0.44446827]\n",
      " [0.09040303 1.         0.        ]\n",
      " [0.44446827 0.         1.        ]]\n"
     ]
    }
   ],
   "source": [
    "# Importer cosine_similarity\n",
    "____\n",
    "\n",
    "\n",
    "#Initialiser une instance de TfidfVectorizer. Nommer-le tfidf_vectorizer.\n",
    "\n",
    "____\n",
    "\n",
    "\n",
    "#En utilisant fit_transform (), générer les vecteurs tf-idf pour corpus. Nommer-le tfidf_matrix.\n",
    "\n",
    "\n",
    "tfidf_matrix_list = ____\n",
    "\n",
    "\n",
    "\n",
    "#Utiliser cosine_similarity () et passez tfidf_matrix pour calculer la matrice de similarité cosinus cosine_sim.\n",
    "\n",
    "\n",
    "cosine_sim = ____\n",
    "\n",
    "\n",
    "#afficher la matrice\n",
    "print(cosine_sim)"
   ]
  },
  {
   "cell_type": "markdown",
   "metadata": {},
   "source": [
    "Voir la vidéo 2 du chapitre 4"
   ]
  },
  {
   "cell_type": "markdown",
   "metadata": {},
   "source": [
    "\n",
    "Dans cet exercice, on va utiliser tfidf_matrix du début du chapitre . Votre tâche consiste à générer la matrice de similarité cosinus pour ces vecteurs d'abord en utilisant cosinus_similarity, puis en utilisant linear_kernel.\n",
    "\n",
    "Nous comparerons ensuite les temps de calcul des deux fonctions."
   ]
  },
  {
   "cell_type": "code",
   "execution_count": 51,
   "metadata": {},
   "outputs": [
    {
     "name": "stdout",
     "output_type": "stream",
     "text": [
      "[[1.         0.09040303 0.44446827]\n",
      " [0.09040303 1.         0.        ]\n",
      " [0.44446827 0.         1.        ]]\n",
      "Time taken: 0.0010004043579101562 seconds\n"
     ]
    }
   ],
   "source": [
    "# enregistrer le temps\n",
    "start = time.time()\n",
    "\n",
    "# calculer cosine similarity matrix\n",
    "cosine_sim = ____\n",
    "\n",
    "\n",
    "# afficher la cosine similarity matrix\n",
    "print(cosine_sim)\n",
    "\n",
    "# afficher le temps de calcul\n",
    "print(\"Time taken: %s seconds\" %(time.time() - start))"
   ]
  },
  {
   "cell_type": "code",
   "execution_count": 52,
   "metadata": {},
   "outputs": [
    {
     "name": "stdout",
     "output_type": "stream",
     "text": [
      "[[1.         0.09040303 0.44446827]\n",
      " [0.09040303 1.         0.        ]\n",
      " [0.44446827 0.         1.        ]]\n",
      "Time taken: 0.0010004043579101562 seconds\n"
     ]
    }
   ],
   "source": [
    "# Importer linear_kernel\n",
    "from sklearn.metrics.pairwise import linear_kernel\n",
    "\n",
    "# enregistrer le temps\n",
    "start = time.time()\n",
    "\n",
    "# calculer cosine similarity matrix\n",
    "cosine_sim = linear_kernel(tfidf_matrix, tfidf_matrix)\n",
    "\n",
    "# afficher la cosine similarity matrix\n",
    "print(cosine_sim)\n",
    "\n",
    "#  afficher le temps de calcul\n",
    "print(\"Time taken: %s seconds\" %(time.time() - start))"
   ]
  },
  {
   "cell_type": "markdown",
   "metadata": {},
   "source": [
    "\n",
    "La fonction de recommandations\n",
    "\n",
    "Dans cet exercice, nous allons créer une fonction de recommandations get_recommendations (). Elle prendra comme arguments un titre, une matrice de similarité cosinus, un titre de film et un mappage d'index et génèrera une liste de 10 titres les plus similaires au titre original (à l'exclusion du titre lui-même).\n",
    "\n",
    "On utilise le dataframe movies pour les index\n",
    "\n"
   ]
  },
  {
   "cell_type": "code",
   "execution_count": 53,
   "metadata": {},
   "outputs": [],
   "source": [
    "# Generer le  mapping entre titles and index\n",
    "indices = pd.Series(movies.index, index=movies['title']).drop_duplicates()\n",
    "\n",
    "# définisser la fonction get_recommendations(title, cosine_sim, indices)\n",
    "def get_recommendations(title, cosine_sim, indices):\n",
    "    #Obtenir l'index du film qui correspond au titre à l'aide de la clé de titre des index.\n",
    "    ____\n",
    "    # trier les films à partir des \"similarity scores\"\n",
    "    ____\n",
    "    \n",
    "    # obtenir les scores des 10 films les plus proches\n",
    "    ____\n",
    "    \n",
    "    # obtenir les indices\n",
    "    \n",
    "    ____\n",
    "    \n",
    "    # renvoyer le top 10 des films similaires\n",
    "    \n",
    "    return ____\n",
    "    "
   ]
  },
  {
   "cell_type": "markdown",
   "metadata": {},
   "source": [
    "Dans cet exercice, nous allons créer un moteur de recommandation qui suggère des films basés sur la similitude des \"overviews\". \n",
    "Les overviews des films sont dans le dataframe movies chargé précédemment.\n",
    "\n",
    "Nous testerons le moteur avec  \"The Dark Knight Rises\"."
   ]
  },
  {
   "cell_type": "code",
   "execution_count": 54,
   "metadata": {},
   "outputs": [
    {
     "name": "stdout",
     "output_type": "stream",
     "text": [
      "5401            The Stepford Wives\n",
      "994                      Braindead\n",
      "3795                   On the Line\n",
      "5983                        3-Iron\n",
      "8517                Particle Fever\n",
      "3331    Elvis That's the Way It Is\n",
      "5130                      Dogville\n",
      "8123                  End of Watch\n",
      "8666                   The Captive\n",
      "4132      She Wore a Yellow Ribbon\n",
      "Name: title, dtype: object\n"
     ]
    }
   ],
   "source": [
    "#on isole des overviews\n",
    "movie_plots = movies[movies.index == indices][\"overview\"].dropna()\n",
    "\n",
    "# Initialiser le TfidfVectorizer en enlevant les stop_wordds\n",
    "tfidf = ____\n",
    "\n",
    "# constuire the TF-IDF matrix\n",
    "tfidf_matrix = ____\n",
    "\n",
    "# générer la cosine similarity matrix\n",
    "cosine_sim = ____\n",
    " \n",
    "# générer des recommendations \n",
    "print(get_recommendations('The Dark Knight Rises', cosine_sim, indices))"
   ]
  },
  {
   "cell_type": "code",
   "execution_count": null,
   "metadata": {},
   "outputs": [],
   "source": []
  }
 ],
 "metadata": {
  "kernelspec": {
   "display_name": "Python 3 (ipykernel)",
   "language": "python",
   "name": "python3"
  },
  "language_info": {
   "codemirror_mode": {
    "name": "ipython",
    "version": 3
   },
   "file_extension": ".py",
   "mimetype": "text/x-python",
   "name": "python",
   "nbconvert_exporter": "python",
   "pygments_lexer": "ipython3",
   "version": "3.10.13"
  }
 },
 "nbformat": 4,
 "nbformat_minor": 4
}
